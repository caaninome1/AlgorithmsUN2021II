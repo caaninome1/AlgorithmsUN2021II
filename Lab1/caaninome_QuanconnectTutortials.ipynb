{
  "nbformat": 4,
  "nbformat_minor": 0,
  "metadata": {
    "colab": {
      "name": "caaninome_QuanconnectTutortials.ipynb",
      "provenance": [],
      "collapsed_sections": [
        "9QbC2jY2VpDT",
        "e-PoiVa0nTV9",
        "f8-SY-_gnZro",
        "CiQ4IRoApFnP",
        "4YEsTSP5pKTY",
        "uytLbnLMFrtJ",
        "kCmzSpRjHfHC",
        "DZstNSUnIGwL",
        "66q6kOVHKjOQ",
        "IWWMd0UwWOAj",
        "bn1jIUR4nXI0",
        "nwbPPC_JsXed",
        "zJIRAe8muH69",
        "YXSollKsuQdM",
        "pHE_mMXgvZZF",
        "xchws6cNwikt",
        "TGDp2zRHlOj9",
        "qlUphESZqTD8",
        "F_gk4JJ4q_Rz",
        "gDdNaoZ0rq4d",
        "HtR2V4OGsFcw",
        "HRyKTn2b7Uve",
        "LaPD4g_I9kI6",
        "7zGo_pWk-hE-",
        "T1xkRWWyDWZN",
        "oA2dZLBMFXm1",
        "qlGXtLv1FeSB",
        "aWC5r9yPIHbH",
        "ys2MkE4pJcvj",
        "wP2CmT5hKtaj",
        "oHl0fz3OK4AY",
        "b8yT7nBJMbUG",
        "AwigOqZZODoT",
        "kam23C3POJsS",
        "wHjs2aXNQ8Np",
        "VB2bmHX1XnpX",
        "VO8XLn3rcIHj",
        "Z3ZbJ7gDcKnG",
        "7H6GqfWxdbUo",
        "3D_UHOuUdfM-",
        "akp7NhaZdnNt",
        "IPbRZn8JexsF"
      ]
    },
    "kernelspec": {
      "name": "python3",
      "display_name": "Python 3"
    },
    "language_info": {
      "name": "python"
    }
  },
  "cells": [
    {
      "cell_type": "markdown",
      "metadata": {
        "id": "9QbC2jY2VpDT"
      },
      "source": [
        "#TUTORIAL 1"
      ]
    },
    {
      "cell_type": "markdown",
      "metadata": {
        "id": "e-PoiVa0nTV9"
      },
      "source": [
        "\n",
        "## Basic Variable Types"
      ]
    },
    {
      "cell_type": "code",
      "metadata": {
        "colab": {
          "base_uri": "https://localhost:8080/"
        },
        "id": "BI9rtV-3h9a3",
        "outputId": "21439702-f1b8-4043-edfc-a9b3fc5cc69b"
      },
      "source": [
        "my_string1 = 'Welcome to'\n",
        "my_string2 = \"QuantConnect\"\n",
        "print(my_string1 + ' ' + my_string2)"
      ],
      "execution_count": 1,
      "outputs": [
        {
          "output_type": "stream",
          "name": "stdout",
          "text": [
            "Welcome to QuantConnect\n"
          ]
        }
      ]
    },
    {
      "cell_type": "code",
      "metadata": {
        "colab": {
          "base_uri": "https://localhost:8080/"
        },
        "id": "hYK9ztbwiJgf",
        "outputId": "a6182776-1095-4c2a-aff5-1067f21e276f"
      },
      "source": [
        "mi_cadena1='Bienvenido Carlos a'\n",
        "mi_cadena2 =\"QuantConnect\"\n",
        "print(mi_cadena1 +' '+mi_cadena2)"
      ],
      "execution_count": 2,
      "outputs": [
        {
          "output_type": "stream",
          "name": "stdout",
          "text": [
            "Bienvenido Carlos a QuantConnect\n"
          ]
        }
      ]
    },
    {
      "cell_type": "code",
      "metadata": {
        "colab": {
          "base_uri": "https://localhost:8080/"
        },
        "id": "W46b6l3Hi2q4",
        "outputId": "c0c3959d-ca45-41b8-915d-9daba0b6651c"
      },
      "source": [
        "my_int = 10\n",
        "print(my_int)\n",
        "print(type(my_int))"
      ],
      "execution_count": 3,
      "outputs": [
        {
          "output_type": "stream",
          "name": "stdout",
          "text": [
            "10\n",
            "<class 'int'>\n"
          ]
        }
      ]
    },
    {
      "cell_type": "code",
      "metadata": {
        "colab": {
          "base_uri": "https://localhost:8080/"
        },
        "id": "9YbNxvL8jAEf",
        "outputId": "da415de9-eba9-49f5-f798-e42e6190965a"
      },
      "source": [
        "mi_entero=100\n",
        "print(mi_entero)\n",
        "print(type(mi_entero))"
      ],
      "execution_count": 4,
      "outputs": [
        {
          "output_type": "stream",
          "name": "stdout",
          "text": [
            "100\n",
            "<class 'int'>\n"
          ]
        }
      ]
    },
    {
      "cell_type": "code",
      "metadata": {
        "colab": {
          "base_uri": "https://localhost:8080/"
        },
        "id": "U3lFcp20jZdf",
        "outputId": "f2ece050-9852-4972-c1ae-4f333bad563b"
      },
      "source": [
        "my_string = \"100\"\n",
        "print(type(my_string))\n",
        "my_int = int(my_string)\n",
        "print(type(my_int))"
      ],
      "execution_count": 5,
      "outputs": [
        {
          "output_type": "stream",
          "name": "stdout",
          "text": [
            "<class 'str'>\n",
            "<class 'int'>\n"
          ]
        }
      ]
    },
    {
      "cell_type": "code",
      "metadata": {
        "colab": {
          "base_uri": "https://localhost:8080/"
        },
        "id": "EnHxgc2ljr05",
        "outputId": "b2d83db3-c0a9-48dc-c079-31bc7f71e586"
      },
      "source": [
        "mi_cadena=\"100000000000000000000000000000000000000000000000000000000000000000000000000000000000000000000000000000\"\n",
        "print(type(mi_cadena))\n",
        "mi_entero=int(mi_cadena)\n",
        "print(mi_entero)\n",
        "print(type(mi_entero))"
      ],
      "execution_count": 6,
      "outputs": [
        {
          "output_type": "stream",
          "name": "stdout",
          "text": [
            "<class 'str'>\n",
            "100000000000000000000000000000000000000000000000000000000000000000000000000000000000000000000000000000\n",
            "<class 'int'>\n"
          ]
        }
      ]
    },
    {
      "cell_type": "code",
      "metadata": {
        "id": "6_QmdF-klGJo"
      },
      "source": [
        ""
      ],
      "execution_count": 6,
      "outputs": []
    },
    {
      "cell_type": "code",
      "metadata": {
        "colab": {
          "base_uri": "https://localhost:8080/"
        },
        "id": "uSUCWE5-lpZo",
        "outputId": "f54fa261-316e-4e5b-afa7-7339ea012ad8"
      },
      "source": [
        "my_float = 1.0\n",
        "print(type(my_float))\n",
        "my_int = 1\n",
        "print(type(my_int))"
      ],
      "execution_count": 7,
      "outputs": [
        {
          "output_type": "stream",
          "name": "stdout",
          "text": [
            "<class 'float'>\n",
            "<class 'int'>\n"
          ]
        }
      ]
    },
    {
      "cell_type": "code",
      "metadata": {
        "colab": {
          "base_uri": "https://localhost:8080/"
        },
        "id": "WVJ_0QRkl23P",
        "outputId": "32b2fbe8-9d9c-4cc0-a6cc-485cfa207cab"
      },
      "source": [
        "mi_flotante=1.1\n",
        "print(type(mi_flotante))\n",
        "mi_entero=1\n",
        "print(type(mi_entero))"
      ],
      "execution_count": 8,
      "outputs": [
        {
          "output_type": "stream",
          "name": "stdout",
          "text": [
            "<class 'float'>\n",
            "<class 'int'>\n"
          ]
        }
      ]
    },
    {
      "cell_type": "code",
      "metadata": {
        "colab": {
          "base_uri": "https://localhost:8080/"
        },
        "id": "S8MLM21Pmc9g",
        "outputId": "1561266e-0a5d-41d5-8ca4-09f5d9debd8d"
      },
      "source": [
        "my_string = \"100\"\n",
        "my_float = float(my_string)\n",
        "print(type(my_float))"
      ],
      "execution_count": 9,
      "outputs": [
        {
          "output_type": "stream",
          "name": "stdout",
          "text": [
            "<class 'float'>\n"
          ]
        }
      ]
    },
    {
      "cell_type": "code",
      "metadata": {
        "colab": {
          "base_uri": "https://localhost:8080/"
        },
        "id": "WpNIB0Uhmgx_",
        "outputId": "ccde9820-44c2-452a-d1ed-832557eb844f"
      },
      "source": [
        "mi_cadena=\"10000000\"\n",
        "mi_flotante=float(mi_cadena)\n",
        "print(mi_flotante)\n",
        "print(type(mi_cadena))"
      ],
      "execution_count": 10,
      "outputs": [
        {
          "output_type": "stream",
          "name": "stdout",
          "text": [
            "10000000.0\n",
            "<class 'str'>\n"
          ]
        }
      ]
    },
    {
      "cell_type": "code",
      "metadata": {
        "colab": {
          "base_uri": "https://localhost:8080/"
        },
        "id": "z4PXasSym2qQ",
        "outputId": "408ff6c2-ef60-4fa3-f142-c0cea3c05991"
      },
      "source": [
        "my_bool = False\n",
        "print(my_bool)\n",
        "print(type(my_bool))"
      ],
      "execution_count": 11,
      "outputs": [
        {
          "output_type": "stream",
          "name": "stdout",
          "text": [
            "False\n",
            "<class 'bool'>\n"
          ]
        }
      ]
    },
    {
      "cell_type": "code",
      "metadata": {
        "colab": {
          "base_uri": "https://localhost:8080/"
        },
        "id": "8vlGEy1xnBOA",
        "outputId": "758d6e8e-7454-41c9-8956-c0d6b9b02055"
      },
      "source": [
        "mi_booleano = True\n",
        "print(mi_booleano)\n",
        "print(type(mi_booleano))"
      ],
      "execution_count": 12,
      "outputs": [
        {
          "output_type": "stream",
          "name": "stdout",
          "text": [
            "True\n",
            "<class 'bool'>\n"
          ]
        }
      ]
    },
    {
      "cell_type": "markdown",
      "metadata": {
        "id": "f8-SY-_gnZro"
      },
      "source": [
        "##Basic Math Operations"
      ]
    },
    {
      "cell_type": "code",
      "metadata": {
        "colab": {
          "base_uri": "https://localhost:8080/"
        },
        "id": "bWrJP2zqne-n",
        "outputId": "b1f885fe-f45b-406f-eb27-37a7b8e5cdb0"
      },
      "source": [
        "print(\"Addition \", 1+1)\n",
        "print(\"Subtraction \", 5-2)\n",
        "print(\"Multiplication \", 2*3)\n",
        "print(\"Division\", 10/2)\n",
        "print(\"exponent\", 2**3)"
      ],
      "execution_count": 13,
      "outputs": [
        {
          "output_type": "stream",
          "name": "stdout",
          "text": [
            "Addition  2\n",
            "Subtraction  3\n",
            "Multiplication  6\n",
            "Division 5.0\n",
            "exponent 8\n"
          ]
        }
      ]
    },
    {
      "cell_type": "code",
      "metadata": {
        "colab": {
          "base_uri": "https://localhost:8080/"
        },
        "id": "XQbMwyU0oMPh",
        "outputId": "073fc124-18a4-410f-88f0-1bd7c6b0f093"
      },
      "source": [
        "print(\"Suma \", 8+1000)\n",
        "print(\"Resta \", 5-9)\n",
        "print(\"Multiplicación \", 2*7)\n",
        "print(\"División \", 10/12)\n",
        "print(\"potencia \", 2**4)"
      ],
      "execution_count": 14,
      "outputs": [
        {
          "output_type": "stream",
          "name": "stdout",
          "text": [
            "Suma  1008\n",
            "Resta  -4\n",
            "Multiplicación  14\n",
            "División  0.8333333333333334\n",
            "potencia  16\n"
          ]
        }
      ]
    },
    {
      "cell_type": "markdown",
      "metadata": {
        "id": "CiQ4IRoApFnP"
      },
      "source": [
        "##Data Collections\n"
      ]
    },
    {
      "cell_type": "markdown",
      "metadata": {
        "id": "4YEsTSP5pKTY"
      },
      "source": [
        "###List"
      ]
    },
    {
      "cell_type": "code",
      "metadata": {
        "colab": {
          "base_uri": "https://localhost:8080/"
        },
        "id": "D4rFwyr1pIy3",
        "outputId": "84c00ba5-435f-47e1-b02d-3345afd5c710"
      },
      "source": [
        "my_list = ['Quant', 'Connect', 1,2,3]\n",
        "print(my_list)"
      ],
      "execution_count": 15,
      "outputs": [
        {
          "output_type": "stream",
          "name": "stdout",
          "text": [
            "['Quant', 'Connect', 1, 2, 3]\n"
          ]
        }
      ]
    },
    {
      "cell_type": "code",
      "metadata": {
        "colab": {
          "base_uri": "https://localhost:8080/"
        },
        "id": "ZqvrszK2pm_4",
        "outputId": "ea8321fd-1622-4f1a-a9c9-589d0dffe9e2"
      },
      "source": [
        "mi_lista=[\"Hola\",\"Mundo\",'Hola','Carlos',3,2,1]\n",
        "print(mi_lista)"
      ],
      "execution_count": 16,
      "outputs": [
        {
          "output_type": "stream",
          "name": "stdout",
          "text": [
            "['Hola', 'Mundo', 'Hola', 'Carlos', 3, 2, 1]\n"
          ]
        }
      ]
    },
    {
      "cell_type": "code",
      "metadata": {
        "colab": {
          "base_uri": "https://localhost:8080/"
        },
        "id": "oDcdMBKYqGBg",
        "outputId": "d7f4bf76-c938-4333-ba5b-9d159f447584"
      },
      "source": [
        "my_list = ['Quant', 'Connect', 1,2,3]\n",
        "print(len(my_list))\n",
        "print(my_list[0])\n",
        "print(my_list[len(my_list) - 1])"
      ],
      "execution_count": 17,
      "outputs": [
        {
          "output_type": "stream",
          "name": "stdout",
          "text": [
            "5\n",
            "Quant\n",
            "3\n"
          ]
        }
      ]
    },
    {
      "cell_type": "code",
      "metadata": {
        "colab": {
          "base_uri": "https://localhost:8080/"
        },
        "id": "a9bcw30xCPJ6",
        "outputId": "d90feb8d-eabd-49a8-e792-5226d4084a06"
      },
      "source": [
        "mi_lista=['Hola','Carlos',1,0,3,5,8]\n",
        "print(len(mi_lista))\n",
        "print(mi_lista[0])\n",
        "print(mi_lista[1])\n",
        "print(mi_lista[len(mi_lista)-3])"
      ],
      "execution_count": 18,
      "outputs": [
        {
          "output_type": "stream",
          "name": "stdout",
          "text": [
            "7\n",
            "Hola\n",
            "Carlos\n",
            "3\n"
          ]
        }
      ]
    },
    {
      "cell_type": "code",
      "metadata": {
        "colab": {
          "base_uri": "https://localhost:8080/"
        },
        "id": "brKl6c_EDT8i",
        "outputId": "22a1b48b-7c1e-4a70-ec69-e88a18d62296"
      },
      "source": [
        "my_list = ['Quant','Connect',1,2,3]\n",
        "my_list[2] = 'go'\n",
        "print(my_list)"
      ],
      "execution_count": 19,
      "outputs": [
        {
          "output_type": "stream",
          "name": "stdout",
          "text": [
            "['Quant', 'Connect', 'go', 2, 3]\n"
          ]
        }
      ]
    },
    {
      "cell_type": "code",
      "metadata": {
        "colab": {
          "base_uri": "https://localhost:8080/"
        },
        "id": "8xucv8EIDbOZ",
        "outputId": "d60af5af-569d-4928-b4f9-80c9b80be998"
      },
      "source": [
        "mi_lista=['Hola','Carlos',1,0,3,5,8]\n",
        "mi_lista[1]='Mundo'\n",
        "print(mi_lista)"
      ],
      "execution_count": 20,
      "outputs": [
        {
          "output_type": "stream",
          "name": "stdout",
          "text": [
            "['Hola', 'Mundo', 1, 0, 3, 5, 8]\n"
          ]
        }
      ]
    },
    {
      "cell_type": "code",
      "metadata": {
        "colab": {
          "base_uri": "https://localhost:8080/"
        },
        "id": "W7ILjphoDpMT",
        "outputId": "5b313017-c835-427a-e3ab-8fb47ea92719"
      },
      "source": [
        "my_list = ['Quant','Connect',1,2,3]\n",
        "print(my_list[1:3])"
      ],
      "execution_count": 21,
      "outputs": [
        {
          "output_type": "stream",
          "name": "stdout",
          "text": [
            "['Connect', 1]\n"
          ]
        }
      ]
    },
    {
      "cell_type": "code",
      "metadata": {
        "colab": {
          "base_uri": "https://localhost:8080/"
        },
        "id": "lVceGYa0EIZD",
        "outputId": "b2b76880-acac-4a2b-bee8-4f06fa008c05"
      },
      "source": [
        "mi_lista=['Hola','Carlos',1,0,3,5,8]\n",
        "print(mi_lista[1:4])"
      ],
      "execution_count": 22,
      "outputs": [
        {
          "output_type": "stream",
          "name": "stdout",
          "text": [
            "['Carlos', 1, 0]\n"
          ]
        }
      ]
    },
    {
      "cell_type": "code",
      "metadata": {
        "colab": {
          "base_uri": "https://localhost:8080/"
        },
        "id": "yQ1hThRZESpx",
        "outputId": "e7e96332-76e8-46a6-87fc-a9855937cbf9"
      },
      "source": [
        "print(my_list[1:])"
      ],
      "execution_count": 23,
      "outputs": [
        {
          "output_type": "stream",
          "name": "stdout",
          "text": [
            "['Connect', 1, 2, 3]\n"
          ]
        }
      ]
    },
    {
      "cell_type": "code",
      "metadata": {
        "colab": {
          "base_uri": "https://localhost:8080/"
        },
        "id": "XkVdLz-XEeNa",
        "outputId": "a59e195d-58e4-4aa8-d42b-d24bc5311847"
      },
      "source": [
        "print(mi_lista[1:])"
      ],
      "execution_count": 24,
      "outputs": [
        {
          "output_type": "stream",
          "name": "stdout",
          "text": [
            "['Carlos', 1, 0, 3, 5, 8]\n"
          ]
        }
      ]
    },
    {
      "cell_type": "code",
      "metadata": {
        "colab": {
          "base_uri": "https://localhost:8080/"
        },
        "id": "NbdTfpCrElsD",
        "outputId": "63042cfe-60c8-49dc-fbe6-bbb5ae9fe882"
      },
      "source": [
        "print(my_list[:3])"
      ],
      "execution_count": 25,
      "outputs": [
        {
          "output_type": "stream",
          "name": "stdout",
          "text": [
            "['Quant', 'Connect', 1]\n"
          ]
        }
      ]
    },
    {
      "cell_type": "code",
      "metadata": {
        "colab": {
          "base_uri": "https://localhost:8080/"
        },
        "id": "VjC4l3fSEwWx",
        "outputId": "3d9a83b6-e4df-4cce-f344-c9da727d10cb"
      },
      "source": [
        "print(mi_lista[:2])"
      ],
      "execution_count": 26,
      "outputs": [
        {
          "output_type": "stream",
          "name": "stdout",
          "text": [
            "['Hola', 'Carlos']\n"
          ]
        }
      ]
    },
    {
      "cell_type": "code",
      "metadata": {
        "colab": {
          "base_uri": "https://localhost:8080/"
        },
        "id": "XaTchZI7FD3C",
        "outputId": "aee06110-a9f3-478e-ba5b-defbf6f42d4e"
      },
      "source": [
        "my_list = ['Hello', 'Quant']\n",
        "my_list.append('Hello')\n",
        "print(my_list)\n",
        "my_list.remove('Hello')\n",
        "print(my_list)"
      ],
      "execution_count": 27,
      "outputs": [
        {
          "output_type": "stream",
          "name": "stdout",
          "text": [
            "['Hello', 'Quant', 'Hello']\n",
            "['Quant', 'Hello']\n"
          ]
        }
      ]
    },
    {
      "cell_type": "code",
      "metadata": {
        "colab": {
          "base_uri": "https://localhost:8080/"
        },
        "id": "Z39AsG7bFJOi",
        "outputId": "2ccf308c-88a2-4c17-a611-5725ddf7fb47"
      },
      "source": [
        "mi_lista=['Hola','Mundo']\n",
        "mi_lista.append('Hola')\n",
        "print(mi_lista)\n",
        "mi_lista.remove('Hola')\n",
        "print(mi_lista)"
      ],
      "execution_count": 28,
      "outputs": [
        {
          "output_type": "stream",
          "name": "stdout",
          "text": [
            "['Hola', 'Mundo', 'Hola']\n",
            "['Mundo', 'Hola']\n"
          ]
        }
      ]
    },
    {
      "cell_type": "markdown",
      "metadata": {
        "id": "uytLbnLMFrtJ"
      },
      "source": [
        "###Tuple"
      ]
    },
    {
      "cell_type": "code",
      "metadata": {
        "id": "OULsae9SFwoZ"
      },
      "source": [
        "my_tuple = ('Welcome','to','QuantConnect')"
      ],
      "execution_count": 29,
      "outputs": []
    },
    {
      "cell_type": "code",
      "metadata": {
        "id": "Pc8iAWhaG-ly"
      },
      "source": [
        "mi_tupla=('Bienvenido','a','QuantConnect')"
      ],
      "execution_count": 30,
      "outputs": []
    },
    {
      "cell_type": "code",
      "metadata": {
        "colab": {
          "base_uri": "https://localhost:8080/"
        },
        "id": "5Im629xxGvsz",
        "outputId": "60c36853-9837-475b-b752-45d69340702e"
      },
      "source": [
        "my_tuple = ( 'Welcome' , 'to' , 'QuantConnect' )\n",
        "print( my_tuple [ 1 :]) "
      ],
      "execution_count": 31,
      "outputs": [
        {
          "output_type": "stream",
          "name": "stdout",
          "text": [
            "('to', 'QuantConnect')\n"
          ]
        }
      ]
    },
    {
      "cell_type": "code",
      "metadata": {
        "colab": {
          "base_uri": "https://localhost:8080/"
        },
        "id": "3FOvA22uG6Qi",
        "outputId": "d12450e2-e0aa-40e8-be1e-a4ab0decf1ee"
      },
      "source": [
        "mi_tupla=('Bienvenido','a','QuantConnect')\n",
        "print(mi_tupla[1:])"
      ],
      "execution_count": 32,
      "outputs": [
        {
          "output_type": "stream",
          "name": "stdout",
          "text": [
            "('a', 'QuantConnect')\n"
          ]
        }
      ]
    },
    {
      "cell_type": "markdown",
      "metadata": {
        "id": "kCmzSpRjHfHC"
      },
      "source": [
        "###Set"
      ]
    },
    {
      "cell_type": "code",
      "metadata": {
        "colab": {
          "base_uri": "https://localhost:8080/"
        },
        "id": "IYZT0YeGHX1p",
        "outputId": "20225825-0019-4f30-e671-62afa714aae9"
      },
      "source": [
        "stock_list = ['AAPL','GOOG','IBM','AAPL','IBM','FB','F','GOOG']\n",
        "stock_set = set(stock_list)\n",
        "print(stock_set)"
      ],
      "execution_count": 33,
      "outputs": [
        {
          "output_type": "stream",
          "name": "stdout",
          "text": [
            "{'IBM', 'F', 'GOOG', 'AAPL', 'FB'}\n"
          ]
        }
      ]
    },
    {
      "cell_type": "code",
      "metadata": {
        "colab": {
          "base_uri": "https://localhost:8080/"
        },
        "id": "PfksK7r8INFa",
        "outputId": "6cfb5fa4-5903-4a5d-be82-391ad15d4e16"
      },
      "source": [
        "lista=['Carlos','Juan','Andrea','andrea','Juan','Pepito']\n",
        "lista_set= set(lista)\n",
        "print(lista_set)"
      ],
      "execution_count": 34,
      "outputs": [
        {
          "output_type": "stream",
          "name": "stdout",
          "text": [
            "{'Carlos', 'Pepito', 'andrea', 'Andrea', 'Juan'}\n"
          ]
        }
      ]
    },
    {
      "cell_type": "markdown",
      "metadata": {
        "id": "DZstNSUnIGwL"
      },
      "source": [
        "###Dictionary"
      ]
    },
    {
      "cell_type": "code",
      "metadata": {
        "id": "ubuXws2MIJ2C"
      },
      "source": [
        "my_dic = { 'AAPL' : 'Apple' , 'FB' : 'FaceBook' , 'GOOG' : 'Alfabeto' }   "
      ],
      "execution_count": 35,
      "outputs": []
    },
    {
      "cell_type": "code",
      "metadata": {
        "id": "t1PNsXkiJRD7"
      },
      "source": [
        "mi_diccionario = { 'C' : 'Carlos' , 'J' : 'Juan' , 'A' : 'Andrea' , 'a' : 'andrea' , 'P' : 'Pepito'}   "
      ],
      "execution_count": 36,
      "outputs": []
    },
    {
      "cell_type": "code",
      "metadata": {
        "colab": {
          "base_uri": "https://localhost:8080/"
        },
        "id": "ibrgjL32JseJ",
        "outputId": "4a1abd70-8b1a-454e-937c-4d005213e31c"
      },
      "source": [
        "print ( my_dic [ 'GOOG' ]) "
      ],
      "execution_count": 37,
      "outputs": [
        {
          "output_type": "stream",
          "name": "stdout",
          "text": [
            "Alfabeto\n"
          ]
        }
      ]
    },
    {
      "cell_type": "code",
      "metadata": {
        "colab": {
          "base_uri": "https://localhost:8080/"
        },
        "id": "AJ97DH6XJv3B",
        "outputId": "8996f5f8-389b-4953-cb90-46618807b76c"
      },
      "source": [
        "print(mi_diccionario['A'])"
      ],
      "execution_count": 38,
      "outputs": [
        {
          "output_type": "stream",
          "name": "stdout",
          "text": [
            "Andrea\n"
          ]
        }
      ]
    },
    {
      "cell_type": "code",
      "metadata": {
        "colab": {
          "base_uri": "https://localhost:8080/"
        },
        "id": "2BAHrchlJ2Eq",
        "outputId": "8b238e24-0193-43c3-a31e-9bf1ffcd448e"
      },
      "source": [
        "my_dic['GOOG'] = 'Alphabet Company'\n",
        "print(my_dic['GOOG'])"
      ],
      "execution_count": 39,
      "outputs": [
        {
          "output_type": "stream",
          "name": "stdout",
          "text": [
            "Alphabet Company\n"
          ]
        }
      ]
    },
    {
      "cell_type": "code",
      "metadata": {
        "colab": {
          "base_uri": "https://localhost:8080/"
        },
        "id": "8-KUEPSXKB8K",
        "outputId": "769681cc-6e6e-438f-a348-51f36065d5b4"
      },
      "source": [
        "mi_diccionario['P']='Pedro'\n",
        "print(mi_diccionario['P'])\n",
        "print(mi_diccionario)"
      ],
      "execution_count": 40,
      "outputs": [
        {
          "output_type": "stream",
          "name": "stdout",
          "text": [
            "Pedro\n",
            "{'C': 'Carlos', 'J': 'Juan', 'A': 'Andrea', 'a': 'andrea', 'P': 'Pedro'}\n"
          ]
        }
      ]
    },
    {
      "cell_type": "code",
      "metadata": {
        "colab": {
          "base_uri": "https://localhost:8080/"
        },
        "id": "ads1e8mTKSDC",
        "outputId": "bd1a4141-1983-418b-9eb5-d77a746cb785"
      },
      "source": [
        "print(my_dic.keys())"
      ],
      "execution_count": 41,
      "outputs": [
        {
          "output_type": "stream",
          "name": "stdout",
          "text": [
            "dict_keys(['AAPL', 'FB', 'GOOG'])\n"
          ]
        }
      ]
    },
    {
      "cell_type": "code",
      "metadata": {
        "colab": {
          "base_uri": "https://localhost:8080/"
        },
        "id": "TVANOg94KYgC",
        "outputId": "6f1ca00d-b1ec-40c1-9d74-145988416fa2"
      },
      "source": [
        "print(mi_diccionario.keys())"
      ],
      "execution_count": 42,
      "outputs": [
        {
          "output_type": "stream",
          "name": "stdout",
          "text": [
            "dict_keys(['C', 'J', 'A', 'a', 'P'])\n"
          ]
        }
      ]
    },
    {
      "cell_type": "markdown",
      "metadata": {
        "id": "66q6kOVHKjOQ"
      },
      "source": [
        "##Common String Operations"
      ]
    },
    {
      "cell_type": "code",
      "metadata": {
        "colab": {
          "base_uri": "https://localhost:8080/"
        },
        "id": "kgD9DBJPKlWi",
        "outputId": "eb78d46d-ec4e-4b87-e41a-d3052aa05c14"
      },
      "source": [
        "my_str = 'Welcome to QuantConnect'\n",
        "print(my_str[8:])"
      ],
      "execution_count": 43,
      "outputs": [
        {
          "output_type": "stream",
          "name": "stdout",
          "text": [
            "to QuantConnect\n"
          ]
        }
      ]
    },
    {
      "cell_type": "code",
      "metadata": {
        "colab": {
          "base_uri": "https://localhost:8080/"
        },
        "id": "HQhonPoOL546",
        "outputId": "b1d63e6a-15a0-4c00-cbf5-7b40cb5bdb66"
      },
      "source": [
        "mi_str='Bienvenido a QuantConnect'\n",
        "print(mi_str[11:])"
      ],
      "execution_count": 44,
      "outputs": [
        {
          "output_type": "stream",
          "name": "stdout",
          "text": [
            "a QuantConnect\n"
          ]
        }
      ]
    },
    {
      "cell_type": "code",
      "metadata": {
        "colab": {
          "base_uri": "https://localhost:8080/"
        },
        "id": "X2iszGfJMOrz",
        "outputId": "325ee356-6d81-4074-d1d3-5b2c36b18c6f"
      },
      "source": [
        "print(\"Counting the number of e's in this sentence\".count('e'))\n",
        "print('The first time e appears in this sentence'.find('e'))\n",
        "print('all the a in this sentence now becomes e'.replace('a','e'))"
      ],
      "execution_count": 45,
      "outputs": [
        {
          "output_type": "stream",
          "name": "stdout",
          "text": [
            "6\n",
            "2\n",
            "ell the e in this sentence now becomes e\n"
          ]
        }
      ]
    },
    {
      "cell_type": "code",
      "metadata": {
        "colab": {
          "base_uri": "https://localhost:8080/"
        },
        "id": "ms4IGF1jMhcq",
        "outputId": "aa0eb356-735f-415a-9d49-e4d1e063810a"
      },
      "source": [
        "print(\"Cuenta el numero de e's in esta sentencia\".count('e'))\n",
        "print(\"La primera vez que e aparece en esta sentencia\".find('e'))\n",
        "print('todas las a en esta sentencia ahora se convierten en e'.replace('a','e'))"
      ],
      "execution_count": 46,
      "outputs": [
        {
          "output_type": "stream",
          "name": "stdout",
          "text": [
            "8\n",
            "7\n",
            "todes les e en este sentencie ehore se convierten en e\n"
          ]
        }
      ]
    },
    {
      "cell_type": "code",
      "metadata": {
        "colab": {
          "base_uri": "https://localhost:8080/"
        },
        "id": "T6v4-O0TNREj",
        "outputId": "24ecc0ff-06cf-4027-d86b-3d2f68d6457b"
      },
      "source": [
        "Time = '2016-04-01 09:43:00'\n",
        "splited_list = Time.split(' ')\n",
        "date = splited_list[0]\n",
        "time = splited_list[1]\n",
        "print(date, time)\n",
        "hour = time.split(':')[0]\n",
        "print(hour)"
      ],
      "execution_count": 47,
      "outputs": [
        {
          "output_type": "stream",
          "name": "stdout",
          "text": [
            "2016-04-01 09:43:00\n",
            "09\n"
          ]
        }
      ]
    },
    {
      "cell_type": "code",
      "metadata": {
        "colab": {
          "base_uri": "https://localhost:8080/"
        },
        "id": "CWN7-cJsPNb6",
        "outputId": "a595c574-a62a-4dfa-e1b3-1ac79c79f08c"
      },
      "source": [
        "Tiempo='2021-10-15 18:15:00'\n",
        "lista_dividida=Tiempo.split(' ')\n",
        "fecha=lista_dividida[0]\n",
        "tiempo=lista_dividida[1]\n",
        "print(fecha,tiempo)\n",
        "hora=tiempo.split(':')[0]\n",
        "print(hora)"
      ],
      "execution_count": 48,
      "outputs": [
        {
          "output_type": "stream",
          "name": "stdout",
          "text": [
            "2021-10-15 18:15:00\n",
            "18\n"
          ]
        }
      ]
    },
    {
      "cell_type": "code",
      "metadata": {
        "colab": {
          "base_uri": "https://localhost:8080/"
        },
        "id": "q3sJn5klNvUD",
        "outputId": "60e3220f-edb9-4afa-a0bc-1acb30ce56dc"
      },
      "source": [
        "my_time = 'Hour: {}, Minute: {}'.format(9, 43)\n",
        "print(my_time)"
      ],
      "execution_count": 49,
      "outputs": [
        {
          "output_type": "stream",
          "name": "stdout",
          "text": [
            "Hour: 9, Minute: 43\n"
          ]
        }
      ]
    },
    {
      "cell_type": "code",
      "metadata": {
        "colab": {
          "base_uri": "https://localhost:8080/"
        },
        "id": "m9m5_hHIQOGy",
        "outputId": "8aef2bc8-6813-4185-d234-5dddfa499f46"
      },
      "source": [
        "mi_tiempo='Hora: {}, Minuto: {}'.format(6,15)\n",
        "print(mi_tiempo)"
      ],
      "execution_count": 50,
      "outputs": [
        {
          "output_type": "stream",
          "name": "stdout",
          "text": [
            "Hora: 6, Minuto: 15\n"
          ]
        }
      ]
    },
    {
      "cell_type": "code",
      "metadata": {
        "colab": {
          "base_uri": "https://localhost:8080/"
        },
        "id": "AEhAAUicN-aa",
        "outputId": "90052e36-7cf6-42a7-cd9e-d0b8425dd475"
      },
      "source": [
        "print('pi is %f' % 3.14)\n",
        "print('%s to %s' % ('Welcome', 'QuantConnect'))"
      ],
      "execution_count": 51,
      "outputs": [
        {
          "output_type": "stream",
          "name": "stdout",
          "text": [
            "pi is 3.140000\n",
            "Welcome to QuantConnect\n"
          ]
        }
      ]
    },
    {
      "cell_type": "code",
      "metadata": {
        "colab": {
          "base_uri": "https://localhost:8080/"
        },
        "id": "6bJxaVJfQ_RD",
        "outputId": "65359e16-3f21-4f26-8603-0ea77395dd07"
      },
      "source": [
        "print('euler es %f' % 2.71)\n",
        "print('%s a %s' % ('Bienvenido','QuantConnect'))"
      ],
      "execution_count": 52,
      "outputs": [
        {
          "output_type": "stream",
          "name": "stdout",
          "text": [
            "euler es 2.710000\n",
            "Bienvenido a QuantConnect\n"
          ]
        }
      ]
    },
    {
      "cell_type": "markdown",
      "metadata": {
        "id": "W-uju5NBWMt7"
      },
      "source": [
        ""
      ]
    },
    {
      "cell_type": "markdown",
      "metadata": {
        "id": "IWWMd0UwWOAj"
      },
      "source": [
        "#TUTORIAL 2"
      ]
    },
    {
      "cell_type": "markdown",
      "metadata": {
        "id": "bn1jIUR4nXI0"
      },
      "source": [
        "##Logical Operations"
      ]
    },
    {
      "cell_type": "code",
      "metadata": {
        "colab": {
          "base_uri": "https://localhost:8080/"
        },
        "id": "wphikcGAWVKE",
        "outputId": "8340488e-6322-4550-c64f-209810ec1651"
      },
      "source": [
        "print(1 == 0)    # 1 equals 0\n",
        "print(1 == 1)    # 1 equals 1\n",
        "print(1 != 0)    # 1 is not equal to 0\n",
        "print(5 >= 5)    # 5 is greater than or equal to 5\n",
        "print(5 >= 6)    # 5 is greater than or equal to 6"
      ],
      "execution_count": 53,
      "outputs": [
        {
          "output_type": "stream",
          "name": "stdout",
          "text": [
            "False\n",
            "True\n",
            "True\n",
            "True\n",
            "False\n"
          ]
        }
      ]
    },
    {
      "cell_type": "code",
      "metadata": {
        "colab": {
          "base_uri": "https://localhost:8080/"
        },
        "id": "7dHIm7U9myZ1",
        "outputId": "14a1c3b6-bbaf-47ec-a653-40d1bf37c0f0"
      },
      "source": [
        "print(0 == 0)\n",
        "print(2 == 1)\n",
        "print(0 != 0)\n",
        "print(9 >= 9)\n",
        "print(-9 >= 8)"
      ],
      "execution_count": 54,
      "outputs": [
        {
          "output_type": "stream",
          "name": "stdout",
          "text": [
            "True\n",
            "False\n",
            "False\n",
            "True\n",
            "False\n"
          ]
        }
      ]
    },
    {
      "cell_type": "code",
      "metadata": {
        "colab": {
          "base_uri": "https://localhost:8080/"
        },
        "id": "ACoPQztXnSAs",
        "outputId": "836947ec-eefb-4927-c99b-48d479490672"
      },
      "source": [
        "print (2 > 1) and (3 > 2)\n",
        "print (2 > 1) and (3 < 2)\n",
        "print (2 > 1) or  (3 < 2)\n",
        "print (2 < 1) and (3 < 2)"
      ],
      "execution_count": 55,
      "outputs": [
        {
          "output_type": "stream",
          "name": "stdout",
          "text": [
            "True\n",
            "True\n",
            "True\n",
            "False\n"
          ]
        }
      ]
    },
    {
      "cell_type": "code",
      "metadata": {
        "colab": {
          "base_uri": "https://localhost:8080/"
        },
        "id": "W8fqjzLTnlK8",
        "outputId": "9320d10b-6690-4784-a27d-1acb53457838"
      },
      "source": [
        "print (-2 > -1) and (-3 > -2)\n",
        "print (-2 > -1) and (-3 < -2)\n",
        "print (-2 > -1) or  (-3 < -2)\n",
        "print (-2 < -1) and (-3 < -2)"
      ],
      "execution_count": 56,
      "outputs": [
        {
          "output_type": "stream",
          "name": "stdout",
          "text": [
            "False\n",
            "False\n",
            "False\n",
            "True\n"
          ]
        }
      ]
    },
    {
      "cell_type": "code",
      "metadata": {
        "colab": {
          "base_uri": "https://localhost:8080/"
        },
        "id": "A1oO36einxA8",
        "outputId": "254c9152-fb19-45a9-ced8-d78ea4383b47"
      },
      "source": [
        "print (((3 > 2) or (1 < 3)) and ((1!=3) and (4>3)) and not ( (3 < 2) or (1 < 3) and ((1!=3) and (4>3))))\n",
        "print ((3 > 2) or (1 < 3) and ((1!=3) and (4>3)) and not ( (3 < 2) or (1 < 3) and ((1!=3) and (4>3))))"
      ],
      "execution_count": 57,
      "outputs": [
        {
          "output_type": "stream",
          "name": "stdout",
          "text": [
            "False\n",
            "True\n"
          ]
        }
      ]
    },
    {
      "cell_type": "code",
      "metadata": {
        "colab": {
          "base_uri": "https://localhost:8080/"
        },
        "id": "ISQsuvTWplMU",
        "outputId": "4b02d5f2-97b0-428b-bb48-eeb19208a9ad"
      },
      "source": [
        "print (((-3 > -2) and (-1 < -3)) or ((-1!=-3) or (-4>-3)) or not ( (-3 < -2) and (-1 < -3) or ((-1!=-3) or (-4>-3))))\n",
        "print ((-3 > -2) and (-1 < -3) or ((-1!=-3) or (-4>-3)) and not ( (-3 < -2) and (-1 < -3) or ((-1!=-3) or (-4>-3))))"
      ],
      "execution_count": 58,
      "outputs": [
        {
          "output_type": "stream",
          "name": "stdout",
          "text": [
            "True\n",
            "False\n"
          ]
        }
      ]
    },
    {
      "cell_type": "markdown",
      "metadata": {
        "id": "nwbPPC_JsXed"
      },
      "source": [
        "##If Statement"
      ]
    },
    {
      "cell_type": "code",
      "metadata": {
        "colab": {
          "base_uri": "https://localhost:8080/"
        },
        "id": "wFJZNFl3qw0H",
        "outputId": "5943e8ea-210a-4b51-9a02-ae37fbef1546"
      },
      "source": [
        "i = 0\n",
        "if i == 0: print('i == 0 is True')"
      ],
      "execution_count": 59,
      "outputs": [
        {
          "output_type": "stream",
          "name": "stdout",
          "text": [
            "i == 0 is True\n"
          ]
        }
      ]
    },
    {
      "cell_type": "code",
      "metadata": {
        "colab": {
          "base_uri": "https://localhost:8080/"
        },
        "id": "J1CQKgkHtAs0",
        "outputId": "9fcef137-4f1c-451d-cdd6-c5e0ea43d47d"
      },
      "source": [
        "i = 1\n",
        "if i != 0: print('i != 0 is True')"
      ],
      "execution_count": 60,
      "outputs": [
        {
          "output_type": "stream",
          "name": "stdout",
          "text": [
            "i != 0 is True\n"
          ]
        }
      ]
    },
    {
      "cell_type": "code",
      "metadata": {
        "colab": {
          "base_uri": "https://localhost:8080/"
        },
        "id": "AUxw5RSwtRAS",
        "outputId": "9ab569b0-036c-4453-b17d-e9ea57a85393"
      },
      "source": [
        "p = 1 > 0\n",
        "q = 2 > 3\n",
        "if p and q:\n",
        "    print('p and q is true')\n",
        "elif p and not q:\n",
        "    print('q is false')\n",
        "elif q and not p:\n",
        "    print('p is false')\n",
        "else:\n",
        "    print('None of p and q is true')"
      ],
      "execution_count": 61,
      "outputs": [
        {
          "output_type": "stream",
          "name": "stdout",
          "text": [
            "q is false\n"
          ]
        }
      ]
    },
    {
      "cell_type": "code",
      "metadata": {
        "colab": {
          "base_uri": "https://localhost:8080/"
        },
        "id": "UaS4X9-jtw_l",
        "outputId": "f0a0c8ee-cf3e-426e-a33c-78f5c88e2274"
      },
      "source": [
        "p = 11 < 0\n",
        "q = -1 < 10\n",
        "if p and q:\n",
        "    print('p and q is true')\n",
        "elif p and not q:\n",
        "    print('q is false')\n",
        "elif q and not p:\n",
        "    print('p is false')\n",
        "else:\n",
        "    print('None of p and q is true')"
      ],
      "execution_count": 62,
      "outputs": [
        {
          "output_type": "stream",
          "name": "stdout",
          "text": [
            "p is false\n"
          ]
        }
      ]
    },
    {
      "cell_type": "markdown",
      "metadata": {
        "id": "zJIRAe8muH69"
      },
      "source": [
        "##Loop Structure"
      ]
    },
    {
      "cell_type": "markdown",
      "metadata": {
        "id": "YXSollKsuQdM"
      },
      "source": [
        "###While Loop"
      ]
    },
    {
      "cell_type": "code",
      "metadata": {
        "colab": {
          "base_uri": "https://localhost:8080/"
        },
        "id": "CmL29i7buFb1",
        "outputId": "fbeccea5-3e19-4dc5-8701-5d1d5b869ec5"
      },
      "source": [
        "i = 0\n",
        "while i < 5:\n",
        "    print(i)\n",
        "    i += 1"
      ],
      "execution_count": 63,
      "outputs": [
        {
          "output_type": "stream",
          "name": "stdout",
          "text": [
            "0\n",
            "1\n",
            "2\n",
            "3\n",
            "4\n"
          ]
        }
      ]
    },
    {
      "cell_type": "code",
      "metadata": {
        "colab": {
          "base_uri": "https://localhost:8080/"
        },
        "id": "eGgR6Tw8ut-E",
        "outputId": "054c6a79-dce2-4748-a474-2dbe6cb44b5a"
      },
      "source": [
        "i = 10\n",
        "while i > 0:\n",
        "    print(i)\n",
        "    i -= 1"
      ],
      "execution_count": 64,
      "outputs": [
        {
          "output_type": "stream",
          "name": "stdout",
          "text": [
            "10\n",
            "9\n",
            "8\n",
            "7\n",
            "6\n",
            "5\n",
            "4\n",
            "3\n",
            "2\n",
            "1\n"
          ]
        }
      ]
    },
    {
      "cell_type": "markdown",
      "metadata": {
        "id": "pHE_mMXgvZZF"
      },
      "source": [
        "###For Loop"
      ]
    },
    {
      "cell_type": "code",
      "metadata": {
        "colab": {
          "base_uri": "https://localhost:8080/"
        },
        "id": "fmNmL30GvMPs",
        "outputId": "cd3e1a08-0a72-4a68-8e5b-d9d42f5b2381"
      },
      "source": [
        "for x in [1,2,3,4,5]: print(x)"
      ],
      "execution_count": 65,
      "outputs": [
        {
          "output_type": "stream",
          "name": "stdout",
          "text": [
            "1\n",
            "2\n",
            "3\n",
            "4\n",
            "5\n"
          ]
        }
      ]
    },
    {
      "cell_type": "code",
      "metadata": {
        "colab": {
          "base_uri": "https://localhost:8080/"
        },
        "id": "QWCeUlkOvjm0",
        "outputId": "9a37461d-12d5-48d5-c24c-67eb5528f5de"
      },
      "source": [
        "for x in [10,9,8,7,6,5]: print(x-1)"
      ],
      "execution_count": 66,
      "outputs": [
        {
          "output_type": "stream",
          "name": "stdout",
          "text": [
            "9\n",
            "8\n",
            "7\n",
            "6\n",
            "5\n",
            "4\n"
          ]
        }
      ]
    },
    {
      "cell_type": "code",
      "metadata": {
        "colab": {
          "base_uri": "https://localhost:8080/"
        },
        "id": "HTVrbLWyvubc",
        "outputId": "8972e0e4-3796-418a-bf46-6cf087b11fe8"
      },
      "source": [
        "stocks = ['AAPL','GOOG','IBM','FB','F','V', 'G', 'GE']\n",
        "selected = ['AAPL','IBM']\n",
        "new_list = []\n",
        "for stock in stocks:\n",
        "    if stock not in selected:\n",
        "        new_list.append(stock)\n",
        "print(new_list)"
      ],
      "execution_count": 67,
      "outputs": [
        {
          "output_type": "stream",
          "name": "stdout",
          "text": [
            "['GOOG', 'FB', 'F', 'V', 'G', 'GE']\n"
          ]
        }
      ]
    },
    {
      "cell_type": "code",
      "metadata": {
        "colab": {
          "base_uri": "https://localhost:8080/"
        },
        "id": "WLZghnBmwREu",
        "outputId": "728316d5-1dae-4bfe-d1a0-bf19da6f2079"
      },
      "source": [
        "stocks = ['CA','GOOG','ORACLE','FB','F','V', 'G', 'GE']\n",
        "selected = ['CA','ORACLE']\n",
        "new_list = []\n",
        "for stock in stocks:\n",
        "    if stock in selected:\n",
        "        new_list.append(stock)\n",
        "print(new_list)"
      ],
      "execution_count": 68,
      "outputs": [
        {
          "output_type": "stream",
          "name": "stdout",
          "text": [
            "['CA', 'ORACLE']\n"
          ]
        }
      ]
    },
    {
      "cell_type": "markdown",
      "metadata": {
        "id": "xchws6cNwikt"
      },
      "source": [
        "###Break and continue"
      ]
    },
    {
      "cell_type": "code",
      "metadata": {
        "colab": {
          "base_uri": "https://localhost:8080/"
        },
        "id": "6IFnXJeIwgH8",
        "outputId": "4573d472-b505-41cd-8beb-66e549995635"
      },
      "source": [
        "stocks = ['AAPL','GOOG','IBM','FB','F','V', 'G', 'GE']\n",
        "for stock in stocks:\n",
        "    print (stock)\n",
        "    if stock == 'FB': break"
      ],
      "execution_count": 69,
      "outputs": [
        {
          "output_type": "stream",
          "name": "stdout",
          "text": [
            "AAPL\n",
            "GOOG\n",
            "IBM\n",
            "FB\n"
          ]
        }
      ]
    },
    {
      "cell_type": "code",
      "metadata": {
        "colab": {
          "base_uri": "https://localhost:8080/"
        },
        "id": "ypj25rkFw1Fd",
        "outputId": "6f71ba49-c50a-4691-9a3c-53514bfab532"
      },
      "source": [
        "stocks = ['AAPL','GOOG','IBM','FB','F','V','BREAK','G', 'GE']\n",
        "for stock in stocks:\n",
        "    print (stock)\n",
        "    if stock == 'BREAK': break"
      ],
      "execution_count": 70,
      "outputs": [
        {
          "output_type": "stream",
          "name": "stdout",
          "text": [
            "AAPL\n",
            "GOOG\n",
            "IBM\n",
            "FB\n",
            "F\n",
            "V\n",
            "BREAK\n"
          ]
        }
      ]
    },
    {
      "cell_type": "code",
      "metadata": {
        "colab": {
          "base_uri": "https://localhost:8080/"
        },
        "id": "3-_eXfpuxMel",
        "outputId": "bee69e72-e8f6-4f12-da1d-2e7631d640d7"
      },
      "source": [
        "stocks = ['AAPL','GOOG','IBM','FB','F','V', 'G', 'GE']\n",
        "for stock in stocks:\n",
        "    if stock == 'FB': continue\n",
        "    print (stock)"
      ],
      "execution_count": 71,
      "outputs": [
        {
          "output_type": "stream",
          "name": "stdout",
          "text": [
            "AAPL\n",
            "GOOG\n",
            "IBM\n",
            "F\n",
            "V\n",
            "G\n",
            "GE\n"
          ]
        }
      ]
    },
    {
      "cell_type": "code",
      "metadata": {
        "colab": {
          "base_uri": "https://localhost:8080/"
        },
        "id": "ASNiZlz2xVXM",
        "outputId": "129e3ec4-fb59-4e45-c457-ad19077f593c"
      },
      "source": [
        "stocks = ['AAPL','GOOG','IBM','FB','F','V', 'G', 'GE']\n",
        "for stock in stocks:\n",
        "    if stock != 'V': continue\n",
        "    print (stock)"
      ],
      "execution_count": 72,
      "outputs": [
        {
          "output_type": "stream",
          "name": "stdout",
          "text": [
            "V\n"
          ]
        }
      ]
    },
    {
      "cell_type": "markdown",
      "metadata": {
        "id": "TGDp2zRHlOj9"
      },
      "source": [
        "###List Comprehension"
      ]
    },
    {
      "cell_type": "code",
      "metadata": {
        "colab": {
          "base_uri": "https://localhost:8080/"
        },
        "id": "rKpTUmfAlK4P",
        "outputId": "1cf6ab59-0fdf-4601-eab0-7fa0ebe47755"
      },
      "source": [
        "squares = []\n",
        "for i in [1,2,3,4,5]:\n",
        "    squares.append(i**2)\n",
        "print(squares)"
      ],
      "execution_count": 73,
      "outputs": [
        {
          "output_type": "stream",
          "name": "stdout",
          "text": [
            "[1, 4, 9, 16, 25]\n"
          ]
        }
      ]
    },
    {
      "cell_type": "code",
      "metadata": {
        "colab": {
          "base_uri": "https://localhost:8080/"
        },
        "id": "5m4-lVHhlfct",
        "outputId": "e49912f6-743e-46fd-8f27-1e4b0cfa5e0f"
      },
      "source": [
        "cubos = []\n",
        "for i in [-1,-2,-3,-4,-5]:\n",
        "    cubos.append(i**3)\n",
        "print(cubos)"
      ],
      "execution_count": 74,
      "outputs": [
        {
          "output_type": "stream",
          "name": "stdout",
          "text": [
            "[-1, -8, -27, -64, -125]\n"
          ]
        }
      ]
    },
    {
      "cell_type": "code",
      "metadata": {
        "colab": {
          "base_uri": "https://localhost:8080/"
        },
        "id": "ixazO3m3ltA7",
        "outputId": "5d787e6f-aa85-4c74-a98f-ec44aafe2ae2"
      },
      "source": [
        "foo = [1,2,3,4,5]\n",
        "squares = [x**2 for x in foo]\n",
        "print(squares)"
      ],
      "execution_count": 75,
      "outputs": [
        {
          "output_type": "stream",
          "name": "stdout",
          "text": [
            "[1, 4, 9, 16, 25]\n"
          ]
        }
      ]
    },
    {
      "cell_type": "code",
      "metadata": {
        "colab": {
          "base_uri": "https://localhost:8080/"
        },
        "id": "oSRcN03olz6r",
        "outputId": "ceaa5a42-4299-451f-d941-1fda2c136d0d"
      },
      "source": [
        "foo = [1,2,3,4,5]\n",
        "cubos = [x**3 for x in foo]\n",
        "print(cubos)"
      ],
      "execution_count": 76,
      "outputs": [
        {
          "output_type": "stream",
          "name": "stdout",
          "text": [
            "[1, 8, 27, 64, 125]\n"
          ]
        }
      ]
    },
    {
      "cell_type": "code",
      "metadata": {
        "colab": {
          "base_uri": "https://localhost:8080/"
        },
        "id": "IyQwBOpamihD",
        "outputId": "272976d6-e42c-4bf2-86ef-a7bb1b998166"
      },
      "source": [
        "stocks = ['AAPL','GOOG','IBM','FB','F','V', 'G', 'GE']\n",
        "selected = ['AAPL','IBM']\n",
        "new_list = [x for x in stocks if x not in selected]\n",
        "print(new_list)"
      ],
      "execution_count": 77,
      "outputs": [
        {
          "output_type": "stream",
          "name": "stdout",
          "text": [
            "['GOOG', 'FB', 'F', 'V', 'G', 'GE']\n"
          ]
        }
      ]
    },
    {
      "cell_type": "code",
      "metadata": {
        "colab": {
          "base_uri": "https://localhost:8080/"
        },
        "id": "oxeWM5i1mm58",
        "outputId": "27d3d6b4-3046-4e23-afa7-aa8c12843e4c"
      },
      "source": [
        "lista = ['AAPL','GOOG','IBM','FB','F','V', 'G', 'GE']\n",
        "seleccionado = ['AAPL','IBM']\n",
        "nueva_lista = [x for x in lista if x in seleccionado]\n",
        "print(nueva_lista)"
      ],
      "execution_count": 78,
      "outputs": [
        {
          "output_type": "stream",
          "name": "stdout",
          "text": [
            "['AAPL', 'IBM']\n"
          ]
        }
      ]
    },
    {
      "cell_type": "code",
      "metadata": {
        "colab": {
          "base_uri": "https://localhost:8080/"
        },
        "id": "oefbolqHnFcr",
        "outputId": "5a301182-706a-4c5e-9387-d10b22f9d088"
      },
      "source": [
        "print ([(x, y) for x in [1,2,3] for y in [3,1,4] if x != y])\n",
        "print ([str(x) + ' vs ' + str(y) for x in ['AAPL','GOOG','IBM','FB'] for y in ['F','V','G','GE'] if x != y])"
      ],
      "execution_count": 79,
      "outputs": [
        {
          "output_type": "stream",
          "name": "stdout",
          "text": [
            "[(1, 3), (1, 4), (2, 3), (2, 1), (2, 4), (3, 1), (3, 4)]\n",
            "['AAPL vs F', 'AAPL vs V', 'AAPL vs G', 'AAPL vs GE', 'GOOG vs F', 'GOOG vs V', 'GOOG vs G', 'GOOG vs GE', 'IBM vs F', 'IBM vs V', 'IBM vs G', 'IBM vs GE', 'FB vs F', 'FB vs V', 'FB vs G', 'FB vs GE']\n"
          ]
        }
      ]
    },
    {
      "cell_type": "code",
      "metadata": {
        "colab": {
          "base_uri": "https://localhost:8080/"
        },
        "id": "YeY5d15BnX2i",
        "outputId": "410ee03d-8683-4d88-c524-d2177e87d1cc"
      },
      "source": [
        "print ([(y, x) for x in [4,5,6] for y in [6,4,7] if x==y])\n",
        "print ([str(x) + ' vs ' + str(y) for x in ['Hola','Adios','Bienvenido'] for y in ['Carlos','Juan','Andrea','Viviana'] if x != y])"
      ],
      "execution_count": 80,
      "outputs": [
        {
          "output_type": "stream",
          "name": "stdout",
          "text": [
            "[(4, 4), (6, 6)]\n",
            "['Hola vs Carlos', 'Hola vs Juan', 'Hola vs Andrea', 'Hola vs Viviana', 'Adios vs Carlos', 'Adios vs Juan', 'Adios vs Andrea', 'Adios vs Viviana', 'Bienvenido vs Carlos', 'Bienvenido vs Juan', 'Bienvenido vs Andrea', 'Bienvenido vs Viviana']\n"
          ]
        }
      ]
    },
    {
      "cell_type": "markdown",
      "metadata": {
        "id": "qlUphESZqTD8"
      },
      "source": [
        "#TUTORIAL 3"
      ]
    },
    {
      "cell_type": "markdown",
      "metadata": {
        "id": "F_gk4JJ4q_Rz"
      },
      "source": [
        "##Functions"
      ]
    },
    {
      "cell_type": "code",
      "metadata": {
        "colab": {
          "base_uri": "https://localhost:8080/"
        },
        "id": "Z1cERkIGqXND",
        "outputId": "89ecdfcc-e22e-4b3a-dbac-bbb530541373"
      },
      "source": [
        "def product(x,y):\n",
        "    return x*y\n",
        "print(product(2,3))\n",
        "print(product(5,10))"
      ],
      "execution_count": 81,
      "outputs": [
        {
          "output_type": "stream",
          "name": "stdout",
          "text": [
            "6\n",
            "50\n"
          ]
        }
      ]
    },
    {
      "cell_type": "code",
      "metadata": {
        "colab": {
          "base_uri": "https://localhost:8080/"
        },
        "id": "rHRZ8YKLrC8B",
        "outputId": "86767eb2-8c11-4723-facc-4cd0fe57d37b"
      },
      "source": [
        "def division(x,y):\n",
        "    return x/y\n",
        "print(division(1,4))\n",
        "print(division(30,10))"
      ],
      "execution_count": 82,
      "outputs": [
        {
          "output_type": "stream",
          "name": "stdout",
          "text": [
            "0.25\n",
            "3.0\n"
          ]
        }
      ]
    },
    {
      "cell_type": "code",
      "metadata": {
        "colab": {
          "base_uri": "https://localhost:8080/"
        },
        "id": "LzpNZTVCrUW9",
        "outputId": "205dfe6e-5e9a-4d97-8877-467e82181313"
      },
      "source": [
        "def say_hi():\n",
        "    print (\"Welcome to QuantConnect\")\n",
        "say_hi()"
      ],
      "execution_count": 83,
      "outputs": [
        {
          "output_type": "stream",
          "name": "stdout",
          "text": [
            "Welcome to QuantConnect\n"
          ]
        }
      ]
    },
    {
      "cell_type": "code",
      "metadata": {
        "colab": {
          "base_uri": "https://localhost:8080/"
        },
        "id": "0NFx8KZZrfYD",
        "outputId": "1bc48b28-59b9-4cc3-c1e6-a85a7a476d61"
      },
      "source": [
        "def decir_hola():\n",
        "    print (\"Hola Mundo\")\n",
        "decir_hola()"
      ],
      "execution_count": 84,
      "outputs": [
        {
          "output_type": "stream",
          "name": "stdout",
          "text": [
            "Hola Mundo\n"
          ]
        }
      ]
    },
    {
      "cell_type": "markdown",
      "metadata": {
        "id": "gDdNaoZ0rq4d"
      },
      "source": [
        "##Built-in Function"
      ]
    },
    {
      "cell_type": "markdown",
      "metadata": {
        "id": "HtR2V4OGsFcw"
      },
      "source": [
        "###range()"
      ]
    },
    {
      "cell_type": "code",
      "metadata": {
        "colab": {
          "base_uri": "https://localhost:8080/"
        },
        "id": "vxk0Cvy64BIj",
        "outputId": "32779d7d-4c20-4db0-8591-946ea3fdad11"
      },
      "source": [
        "print(*range(10))\n",
        "print(*range(1, 11))\n",
        "print(*range(1, 11, 2))"
      ],
      "execution_count": 85,
      "outputs": [
        {
          "output_type": "stream",
          "name": "stdout",
          "text": [
            "0 1 2 3 4 5 6 7 8 9\n",
            "1 2 3 4 5 6 7 8 9 10\n",
            "1 3 5 7 9\n"
          ]
        }
      ]
    },
    {
      "cell_type": "code",
      "metadata": {
        "colab": {
          "base_uri": "https://localhost:8080/"
        },
        "id": "3XkWr-7T4HMh",
        "outputId": "5a84225e-e7eb-4fe9-b3d8-c58b517e54fa"
      },
      "source": [
        "print(*range(20))\n",
        "print(*range(5, 12))\n",
        "print(*range(-5, 14, 3))"
      ],
      "execution_count": 86,
      "outputs": [
        {
          "output_type": "stream",
          "name": "stdout",
          "text": [
            "0 1 2 3 4 5 6 7 8 9 10 11 12 13 14 15 16 17 18 19\n",
            "5 6 7 8 9 10 11\n",
            "-5 -2 1 4 7 10 13\n"
          ]
        }
      ]
    },
    {
      "cell_type": "markdown",
      "metadata": {
        "id": "HRyKTn2b7Uve"
      },
      "source": [
        "###len()"
      ]
    },
    {
      "cell_type": "code",
      "metadata": {
        "colab": {
          "base_uri": "https://localhost:8080/"
        },
        "id": "gxYPPBd2sc7T",
        "outputId": "d3be52a7-764a-4165-8d60-36959457fbbb"
      },
      "source": [
        "tickers = ['AAPL', 'GOOGL', 'IBM', 'FB', 'F', 'V', 'G', 'GE']\n",
        "print(\"The number of tickers is {}\".format(len(tickers)))\n",
        "for k in range(len(tickers)):\n",
        "    print(k + 1, tickers[k])"
      ],
      "execution_count": 87,
      "outputs": [
        {
          "output_type": "stream",
          "name": "stdout",
          "text": [
            "The number of tickers is 8\n",
            "1 AAPL\n",
            "2 GOOGL\n",
            "3 IBM\n",
            "4 FB\n",
            "5 F\n",
            "6 V\n",
            "7 G\n",
            "8 GE\n"
          ]
        }
      ]
    },
    {
      "cell_type": "code",
      "metadata": {
        "colab": {
          "base_uri": "https://localhost:8080/"
        },
        "id": "MzTXj7yX8YHb",
        "outputId": "11c0314e-973a-464e-8110-0c1077dbe119"
      },
      "source": [
        "tiquetes = ['UNO', 'DOS', 'TRES', 'CUATRO', 'CINCO']\n",
        "print(\"El número de tiquetes es {}\".format(len(tiquetes)))\n",
        "for k in range(len(tiquetes)):\n",
        "    print(k + 1, tiquetes[k])"
      ],
      "execution_count": 88,
      "outputs": [
        {
          "output_type": "stream",
          "name": "stdout",
          "text": [
            "El número de tiquetes es 5\n",
            "1 UNO\n",
            "2 DOS\n",
            "3 TRES\n",
            "4 CUATRO\n",
            "5 CINCO\n"
          ]
        }
      ]
    },
    {
      "cell_type": "markdown",
      "metadata": {
        "id": "LaPD4g_I9kI6"
      },
      "source": [
        "###map()"
      ]
    },
    {
      "cell_type": "code",
      "metadata": {
        "colab": {
          "base_uri": "https://localhost:8080/"
        },
        "id": "AEdUV2hA-XzX",
        "outputId": "a45a77f4-f575-4eb4-eddc-9e172bdb7780"
      },
      "source": [
        "tickers = ['AAPL','GOOG','IBM','FB','F','V', 'G', 'GE']\n",
        "print(list(map(len,tickers)))"
      ],
      "execution_count": 89,
      "outputs": [
        {
          "output_type": "stream",
          "name": "stdout",
          "text": [
            "[4, 4, 3, 2, 1, 1, 1, 2]\n"
          ]
        }
      ]
    },
    {
      "cell_type": "code",
      "metadata": {
        "colab": {
          "base_uri": "https://localhost:8080/"
        },
        "id": "29RspjQ49gF6",
        "outputId": "92ec03f0-6d76-418c-d0c3-edb459423f02"
      },
      "source": [
        "etiquetas = ['esternocleidomastoideo','electroencefalografista','ORACLE','FACEBOOK']\n",
        "print(list(map(len,etiquetas)))"
      ],
      "execution_count": 90,
      "outputs": [
        {
          "output_type": "stream",
          "name": "stdout",
          "text": [
            "[22, 23, 6, 8]\n"
          ]
        }
      ]
    },
    {
      "cell_type": "markdown",
      "metadata": {
        "id": "7zGo_pWk-hE-"
      },
      "source": [
        "###lambda operator"
      ]
    },
    {
      "cell_type": "code",
      "metadata": {
        "colab": {
          "base_uri": "https://localhost:8080/"
        },
        "id": "pYjfi6AC-cE3",
        "outputId": "c49e24b3-51cc-44d9-b632-661645a63a18"
      },
      "source": [
        "print(list(map(lambda x: x**2, range(10))))"
      ],
      "execution_count": 91,
      "outputs": [
        {
          "output_type": "stream",
          "name": "stdout",
          "text": [
            "[0, 1, 4, 9, 16, 25, 36, 49, 64, 81]\n"
          ]
        }
      ]
    },
    {
      "cell_type": "code",
      "metadata": {
        "colab": {
          "base_uri": "https://localhost:8080/"
        },
        "id": "sk--mubvBrHP",
        "outputId": "1a6dbb0e-3bed-41f1-c4b3-74bc37bf0185"
      },
      "source": [
        "print(list(map(lambda x: x**3, range(5))))"
      ],
      "execution_count": 92,
      "outputs": [
        {
          "output_type": "stream",
          "name": "stdout",
          "text": [
            "[0, 1, 8, 27, 64]\n"
          ]
        }
      ]
    },
    {
      "cell_type": "code",
      "metadata": {
        "colab": {
          "base_uri": "https://localhost:8080/"
        },
        "id": "UvNrYNntBwng",
        "outputId": "d204eb95-d362-47cf-ac64-d74fc02cc988"
      },
      "source": [
        "print(list(map(lambda x, y: x+y, [1,2,3,4,5], [5,4,3,2,1])))"
      ],
      "execution_count": 93,
      "outputs": [
        {
          "output_type": "stream",
          "name": "stdout",
          "text": [
            "[6, 6, 6, 6, 6]\n"
          ]
        }
      ]
    },
    {
      "cell_type": "code",
      "metadata": {
        "colab": {
          "base_uri": "https://localhost:8080/"
        },
        "id": "ZMbnlkYrCDYo",
        "outputId": "53166499-63ad-42bd-9224-b8c67ff14e37"
      },
      "source": [
        "print(list(map(lambda x, y: x+y, [5,6,7,8,9], [5,4,3,2,1])))"
      ],
      "execution_count": 94,
      "outputs": [
        {
          "output_type": "stream",
          "name": "stdout",
          "text": [
            "[10, 10, 10, 10, 10]\n"
          ]
        }
      ]
    },
    {
      "cell_type": "markdown",
      "metadata": {
        "id": "T1xkRWWyDWZN"
      },
      "source": [
        "###sorted()"
      ]
    },
    {
      "cell_type": "code",
      "metadata": {
        "colab": {
          "base_uri": "https://localhost:8080/"
        },
        "id": "QDeWfXE9DT5N",
        "outputId": "dfa2248c-56c0-4e5b-b613-d898d302c4e3"
      },
      "source": [
        "sorted([5,2,3,4,1])"
      ],
      "execution_count": 95,
      "outputs": [
        {
          "output_type": "execute_result",
          "data": {
            "text/plain": [
              "[1, 2, 3, 4, 5]"
            ]
          },
          "metadata": {},
          "execution_count": 95
        }
      ]
    },
    {
      "cell_type": "code",
      "metadata": {
        "colab": {
          "base_uri": "https://localhost:8080/"
        },
        "id": "EfORFfEpDnp1",
        "outputId": "5fb92f56-8567-4c65-8cb6-b2efa755d972"
      },
      "source": [
        "sorted([8,5,45,65,84,25,85,56,8])"
      ],
      "execution_count": 96,
      "outputs": [
        {
          "output_type": "execute_result",
          "data": {
            "text/plain": [
              "[5, 8, 8, 25, 45, 56, 65, 84, 85]"
            ]
          },
          "metadata": {},
          "execution_count": 96
        }
      ]
    },
    {
      "cell_type": "code",
      "metadata": {
        "colab": {
          "base_uri": "https://localhost:8080/"
        },
        "id": "eIQKQ3WqDvjN",
        "outputId": "fbff0d30-d9f8-40f7-de57-9899f26979a3"
      },
      "source": [
        "price_list = [('AAPL', 144.09), ('GOOGL', 911.71), ('MSFT', 69), ('FB', 150), ('WMT', 75.32)]\n",
        "sorted(price_list, key = lambda x: x[1])"
      ],
      "execution_count": 97,
      "outputs": [
        {
          "output_type": "execute_result",
          "data": {
            "text/plain": [
              "[('MSFT', 69),\n",
              " ('WMT', 75.32),\n",
              " ('AAPL', 144.09),\n",
              " ('FB', 150),\n",
              " ('GOOGL', 911.71)]"
            ]
          },
          "metadata": {},
          "execution_count": 97
        }
      ]
    },
    {
      "cell_type": "code",
      "metadata": {
        "colab": {
          "base_uri": "https://localhost:8080/"
        },
        "id": "7mWOX3VSD1oM",
        "outputId": "761df7c1-8172-466c-cedb-1df61e3525e7"
      },
      "source": [
        "lista_precios = [('PLATANO', 2000), ('YUCA', 1500), ('PAPA', 700), ('TOMATE', 800), ('CEBOLLA', 1000)]\n",
        "sorted(lista_precios, key = lambda x: x[1])"
      ],
      "execution_count": 98,
      "outputs": [
        {
          "output_type": "execute_result",
          "data": {
            "text/plain": [
              "[('PAPA', 700),\n",
              " ('TOMATE', 800),\n",
              " ('CEBOLLA', 1000),\n",
              " ('YUCA', 1500),\n",
              " ('PLATANO', 2000)]"
            ]
          },
          "metadata": {},
          "execution_count": 98
        }
      ]
    },
    {
      "cell_type": "code",
      "metadata": {
        "colab": {
          "base_uri": "https://localhost:8080/"
        },
        "id": "Z8StOm-JEOtc",
        "outputId": "c8a0713b-e251-43bb-af13-c20cb619e5be"
      },
      "source": [
        "price_list = [('AAPL', 144.09), ('GOOGL', 911.71), ('MSFT', 69), ('FB', 150), ('WMT', 75.32)]\n",
        "sorted(price_list, key = lambda x: x[1], reverse = True)"
      ],
      "execution_count": 99,
      "outputs": [
        {
          "output_type": "execute_result",
          "data": {
            "text/plain": [
              "[('GOOGL', 911.71),\n",
              " ('FB', 150),\n",
              " ('AAPL', 144.09),\n",
              " ('WMT', 75.32),\n",
              " ('MSFT', 69)]"
            ]
          },
          "metadata": {},
          "execution_count": 99
        }
      ]
    },
    {
      "cell_type": "code",
      "metadata": {
        "colab": {
          "base_uri": "https://localhost:8080/"
        },
        "id": "FhTX3EFkEVT5",
        "outputId": "493f90c7-7f53-43cf-b125-baab6b555bbe"
      },
      "source": [
        "lista_precios = [('PLATANO', 2000), ('YUCA', 1500), ('PAPA', 700), ('TOMATE', 800), ('CEBOLLA', 1000)]\n",
        "sorted(lista_precios, key = lambda x: x[1], reverse=True)"
      ],
      "execution_count": 100,
      "outputs": [
        {
          "output_type": "execute_result",
          "data": {
            "text/plain": [
              "[('PLATANO', 2000),\n",
              " ('YUCA', 1500),\n",
              " ('CEBOLLA', 1000),\n",
              " ('TOMATE', 800),\n",
              " ('PAPA', 700)]"
            ]
          },
          "metadata": {},
          "execution_count": 100
        }
      ]
    },
    {
      "cell_type": "code",
      "metadata": {
        "colab": {
          "base_uri": "https://localhost:8080/"
        },
        "id": "ggu17l_TEeW6",
        "outputId": "c7140b8a-78d8-41ab-f4be-d0a1478bbece"
      },
      "source": [
        "price_list = [('AAPL', 144.09), ('GOOGL', 911.71), ('MSFT', 69), ('FB', 150), ('WMT', 75.32)]\n",
        "price_list.sort(key = lambda x: x[1])\n",
        "print(price_list)"
      ],
      "execution_count": 101,
      "outputs": [
        {
          "output_type": "stream",
          "name": "stdout",
          "text": [
            "[('MSFT', 69), ('WMT', 75.32), ('AAPL', 144.09), ('FB', 150), ('GOOGL', 911.71)]\n"
          ]
        }
      ]
    },
    {
      "cell_type": "code",
      "metadata": {
        "colab": {
          "base_uri": "https://localhost:8080/"
        },
        "id": "laqUiIGxEl2L",
        "outputId": "089e2853-47fb-49d5-8275-03eab534bdca"
      },
      "source": [
        "price_list = [('PLATANO', 2000), ('YUCA', 1500), ('PAPA', 700), ('TOMATE', 800), ('CEBOLLA', 1000)]\n",
        "price_list.sort(key = lambda x: x[1])\n",
        "print(price_list)"
      ],
      "execution_count": 102,
      "outputs": [
        {
          "output_type": "stream",
          "name": "stdout",
          "text": [
            "[('PAPA', 700), ('TOMATE', 800), ('CEBOLLA', 1000), ('YUCA', 1500), ('PLATANO', 2000)]\n"
          ]
        }
      ]
    },
    {
      "cell_type": "markdown",
      "metadata": {
        "id": "oA2dZLBMFXm1"
      },
      "source": [
        "##Object-Oriented Programming"
      ]
    },
    {
      "cell_type": "markdown",
      "metadata": {
        "id": "qlGXtLv1FeSB"
      },
      "source": [
        "###Class"
      ]
    },
    {
      "cell_type": "code",
      "metadata": {
        "id": "JKyT0ldhE91h"
      },
      "source": [
        "class Stock:\n",
        "    def __init__(self, ticker, open, close, volume):\n",
        "        self.ticker = ticker\n",
        "        self.open = open\n",
        "        self.close = close\n",
        "        self.volume = volume\n",
        "        self.rate_return = float(close)/open - 1\n",
        "\n",
        "    def update(self, open, close):\n",
        "        self.open = open\n",
        "        self.close = close\n",
        "        self.rate_return = float(self.close)/self.open - 1\n",
        "\n",
        "    def print_return(self):\n",
        "        print(self.rate_return)"
      ],
      "execution_count": 103,
      "outputs": []
    },
    {
      "cell_type": "code",
      "metadata": {
        "id": "6K5-D07vF_-M"
      },
      "source": [
        "apple  = Stock('AAPL', 143.69, 144.09, 20109375)\n",
        "google = Stock('GOOGL', 898.7, 911.7, 1561616)"
      ],
      "execution_count": 104,
      "outputs": []
    },
    {
      "cell_type": "code",
      "metadata": {
        "colab": {
          "base_uri": "https://localhost:8080/"
        },
        "id": "jXwmc664GBSL",
        "outputId": "c96e758c-4019-47b2-d0ba-8e16f773fe7a"
      },
      "source": [
        "apple.ticker\n",
        "google.print_return()\n",
        "google.update(912.8,913.4)\n",
        "google.print_return()"
      ],
      "execution_count": 105,
      "outputs": [
        {
          "output_type": "stream",
          "name": "stdout",
          "text": [
            "0.014465338822744034\n",
            "0.0006573181419806673\n"
          ]
        }
      ]
    },
    {
      "cell_type": "code",
      "metadata": {
        "id": "gwza59cAG8m2"
      },
      "source": [
        "hola  = Stock('HOLA', 4, 8, 16)\n",
        "mundo = Stock('MUNDO', 2, 10, 100)"
      ],
      "execution_count": 106,
      "outputs": []
    },
    {
      "cell_type": "code",
      "metadata": {
        "colab": {
          "base_uri": "https://localhost:8080/"
        },
        "id": "0zWIpJ1LHMmW",
        "outputId": "66011941-54f4-46cc-eb4a-66b4ff94911a"
      },
      "source": [
        "hola.ticker\n",
        "mundo.print_return()\n",
        "mundo.update(912.8,913.4)\n",
        "mundo.print_return()"
      ],
      "execution_count": 107,
      "outputs": [
        {
          "output_type": "stream",
          "name": "stdout",
          "text": [
            "4.0\n",
            "0.0006573181419806673\n"
          ]
        }
      ]
    },
    {
      "cell_type": "code",
      "metadata": {
        "colab": {
          "base_uri": "https://localhost:8080/",
          "height": 0
        },
        "id": "u36XY0MOHpd9",
        "outputId": "ebe2ec05-2d76-4922-d9ec-9000d2f2b512"
      },
      "source": [
        "apple.ceo = 'Tim Cook'\n",
        "apple.ceo"
      ],
      "execution_count": 108,
      "outputs": [
        {
          "output_type": "execute_result",
          "data": {
            "application/vnd.google.colaboratory.intrinsic+json": {
              "type": "string"
            },
            "text/plain": [
              "'Tim Cook'"
            ]
          },
          "metadata": {},
          "execution_count": 108
        }
      ]
    },
    {
      "cell_type": "code",
      "metadata": {
        "colab": {
          "base_uri": "https://localhost:8080/",
          "height": 0
        },
        "id": "JwbFTsV-HwnN",
        "outputId": "3a3acf56-16d5-4e39-d641-f566bccb6f5b"
      },
      "source": [
        "hola.ceo = 'Adios'\n",
        "hola.ceo"
      ],
      "execution_count": 109,
      "outputs": [
        {
          "output_type": "execute_result",
          "data": {
            "application/vnd.google.colaboratory.intrinsic+json": {
              "type": "string"
            },
            "text/plain": [
              "'Adios'"
            ]
          },
          "metadata": {},
          "execution_count": 109
        }
      ]
    },
    {
      "cell_type": "code",
      "metadata": {
        "colab": {
          "base_uri": "https://localhost:8080/"
        },
        "id": "EVPVypoWH6E8",
        "outputId": "222ec6ab-956c-4a19-dec6-4814db7db451"
      },
      "source": [
        "dir(apple)"
      ],
      "execution_count": 110,
      "outputs": [
        {
          "output_type": "execute_result",
          "data": {
            "text/plain": [
              "['__class__',\n",
              " '__delattr__',\n",
              " '__dict__',\n",
              " '__dir__',\n",
              " '__doc__',\n",
              " '__eq__',\n",
              " '__format__',\n",
              " '__ge__',\n",
              " '__getattribute__',\n",
              " '__gt__',\n",
              " '__hash__',\n",
              " '__init__',\n",
              " '__init_subclass__',\n",
              " '__le__',\n",
              " '__lt__',\n",
              " '__module__',\n",
              " '__ne__',\n",
              " '__new__',\n",
              " '__reduce__',\n",
              " '__reduce_ex__',\n",
              " '__repr__',\n",
              " '__setattr__',\n",
              " '__sizeof__',\n",
              " '__str__',\n",
              " '__subclasshook__',\n",
              " '__weakref__',\n",
              " 'ceo',\n",
              " 'close',\n",
              " 'open',\n",
              " 'print_return',\n",
              " 'rate_return',\n",
              " 'ticker',\n",
              " 'update',\n",
              " 'volume']"
            ]
          },
          "metadata": {},
          "execution_count": 110
        }
      ]
    },
    {
      "cell_type": "code",
      "metadata": {
        "colab": {
          "base_uri": "https://localhost:8080/"
        },
        "id": "c1gC930cH7_0",
        "outputId": "914befb0-c57d-4b19-9bd3-d83ac0b2141d"
      },
      "source": [
        "dir(hola)"
      ],
      "execution_count": 111,
      "outputs": [
        {
          "output_type": "execute_result",
          "data": {
            "text/plain": [
              "['__class__',\n",
              " '__delattr__',\n",
              " '__dict__',\n",
              " '__dir__',\n",
              " '__doc__',\n",
              " '__eq__',\n",
              " '__format__',\n",
              " '__ge__',\n",
              " '__getattribute__',\n",
              " '__gt__',\n",
              " '__hash__',\n",
              " '__init__',\n",
              " '__init_subclass__',\n",
              " '__le__',\n",
              " '__lt__',\n",
              " '__module__',\n",
              " '__ne__',\n",
              " '__new__',\n",
              " '__reduce__',\n",
              " '__reduce_ex__',\n",
              " '__repr__',\n",
              " '__setattr__',\n",
              " '__sizeof__',\n",
              " '__str__',\n",
              " '__subclasshook__',\n",
              " '__weakref__',\n",
              " 'ceo',\n",
              " 'close',\n",
              " 'open',\n",
              " 'print_return',\n",
              " 'rate_return',\n",
              " 'ticker',\n",
              " 'update',\n",
              " 'volume']"
            ]
          },
          "metadata": {},
          "execution_count": 111
        }
      ]
    },
    {
      "cell_type": "markdown",
      "metadata": {
        "id": "aWC5r9yPIHbH"
      },
      "source": [
        "###Inheritance"
      ]
    },
    {
      "cell_type": "code",
      "metadata": {
        "id": "wZ3UIcPSH_Bc"
      },
      "source": [
        "class Child(Stock):\n",
        "    def __init__(self, name):\n",
        "        self.name = name"
      ],
      "execution_count": 112,
      "outputs": []
    },
    {
      "cell_type": "code",
      "metadata": {
        "colab": {
          "base_uri": "https://localhost:8080/"
        },
        "id": "TlMD9dKGINtu",
        "outputId": "19f2757f-de9d-4731-ba4a-98db0dc081e9"
      },
      "source": [
        "aa = Child('AA')\n",
        "print(aa.name)\n",
        "aa.update(100, 102)\n",
        "print(aa.open)\n",
        "print(aa.close)\n",
        "print(aa.print_return())"
      ],
      "execution_count": 113,
      "outputs": [
        {
          "output_type": "stream",
          "name": "stdout",
          "text": [
            "AA\n",
            "100\n",
            "102\n",
            "0.020000000000000018\n",
            "None\n"
          ]
        }
      ]
    },
    {
      "cell_type": "code",
      "metadata": {
        "colab": {
          "base_uri": "https://localhost:8080/"
        },
        "id": "7bpu-z_AIy_L",
        "outputId": "d6755ac4-a145-4e0e-ebf2-0c38cd229a1e"
      },
      "source": [
        "mundo = Child('MUNDO')\n",
        "print(mundo.name)\n",
        "mundo.update(100, 100)\n",
        "print(mundo.open)\n",
        "print(mundo.close)\n",
        "print(mundo.print_return())"
      ],
      "execution_count": 114,
      "outputs": [
        {
          "output_type": "stream",
          "name": "stdout",
          "text": [
            "MUNDO\n",
            "100\n",
            "100\n",
            "0.0\n",
            "None\n"
          ]
        }
      ]
    },
    {
      "cell_type": "markdown",
      "metadata": {
        "id": "ys2MkE4pJcvj"
      },
      "source": [
        "#TUTORIAL 4"
      ]
    },
    {
      "cell_type": "markdown",
      "metadata": {
        "id": "wP2CmT5hKtaj"
      },
      "source": [
        "##Numpy"
      ]
    },
    {
      "cell_type": "code",
      "metadata": {
        "id": "6M7oetKpJe_K"
      },
      "source": [
        "import numpy as np"
      ],
      "execution_count": 115,
      "outputs": []
    },
    {
      "cell_type": "markdown",
      "metadata": {
        "id": "oHl0fz3OK4AY"
      },
      "source": [
        "###Basic NumPy Arrays"
      ]
    },
    {
      "cell_type": "code",
      "metadata": {
        "colab": {
          "base_uri": "https://localhost:8080/"
        },
        "id": "SHOFG1EOKNbw",
        "outputId": "cb211586-2c3c-4d9a-ec52-757280639c6a"
      },
      "source": [
        "price_list = [143.73, 145.83, 143.68, 144.02, 143.5, 142.62]\n",
        "price_array = np.array(price_list)\n",
        "print(price_array, type(price_array))"
      ],
      "execution_count": 116,
      "outputs": [
        {
          "output_type": "stream",
          "name": "stdout",
          "text": [
            "[143.73 145.83 143.68 144.02 143.5  142.62] <class 'numpy.ndarray'>\n"
          ]
        }
      ]
    },
    {
      "cell_type": "code",
      "metadata": {
        "colab": {
          "base_uri": "https://localhost:8080/"
        },
        "id": "RV6OU8ErKUow",
        "outputId": "673fb0a6-6bd8-48ac-da82-326007afa8d4"
      },
      "source": [
        "lista_precios = [3.73, 5.83, 3.68, 4.02, 3.50, 2.62]\n",
        "arreglo_precios = np.array(lista_precios)\n",
        "print(arreglo_precios, type(arreglo_precios))"
      ],
      "execution_count": 117,
      "outputs": [
        {
          "output_type": "stream",
          "name": "stdout",
          "text": [
            "[3.73 5.83 3.68 4.02 3.5  2.62] <class 'numpy.ndarray'>\n"
          ]
        }
      ]
    },
    {
      "cell_type": "code",
      "metadata": {
        "colab": {
          "base_uri": "https://localhost:8080/"
        },
        "id": "JOkqPZgnKrJf",
        "outputId": "f809ef00-657c-4de9-d23f-785dca5937e4"
      },
      "source": [
        "Ar = np.array([[1,3], [2,4]])\n",
        "print(Ar, type(Ar))"
      ],
      "execution_count": 118,
      "outputs": [
        {
          "output_type": "stream",
          "name": "stdout",
          "text": [
            "[[1 3]\n",
            " [2 4]] <class 'numpy.ndarray'>\n"
          ]
        }
      ]
    },
    {
      "cell_type": "code",
      "metadata": {
        "colab": {
          "base_uri": "https://localhost:8080/"
        },
        "id": "2MtMfKRuLExv",
        "outputId": "c65f360a-bbb8-416a-a1e8-3aea81852c40"
      },
      "source": [
        "Arreglo = np.array([[1,0,0], [0,1,0], [0,0,1]])\n",
        "print(Arreglo, type(Arreglo))"
      ],
      "execution_count": 119,
      "outputs": [
        {
          "output_type": "stream",
          "name": "stdout",
          "text": [
            "[[1 0 0]\n",
            " [0 1 0]\n",
            " [0 0 1]] <class 'numpy.ndarray'>\n"
          ]
        }
      ]
    },
    {
      "cell_type": "code",
      "metadata": {
        "colab": {
          "base_uri": "https://localhost:8080/"
        },
        "id": "00HgwyAiLEqG",
        "outputId": "ce9ce812-82e6-48ab-ea36-aa0b7e93cc9c"
      },
      "source": [
        "print(Ar.shape)"
      ],
      "execution_count": 120,
      "outputs": [
        {
          "output_type": "stream",
          "name": "stdout",
          "text": [
            "(2, 2)\n"
          ]
        }
      ]
    },
    {
      "cell_type": "code",
      "metadata": {
        "colab": {
          "base_uri": "https://localhost:8080/"
        },
        "id": "f8MutQi1LV9H",
        "outputId": "884446fe-fbd5-4fd1-a6cc-9eb15bb2a5dd"
      },
      "source": [
        "print(Arreglo.shape)"
      ],
      "execution_count": 121,
      "outputs": [
        {
          "output_type": "stream",
          "name": "stdout",
          "text": [
            "(3, 3)\n"
          ]
        }
      ]
    },
    {
      "cell_type": "code",
      "metadata": {
        "colab": {
          "base_uri": "https://localhost:8080/"
        },
        "id": "UlfjhlJ6Ln1o",
        "outputId": "69089198-4cd5-4509-8e39-89b37773f8c2"
      },
      "source": [
        "print(Ar[0])\n",
        "print(Ar[1])"
      ],
      "execution_count": 122,
      "outputs": [
        {
          "output_type": "stream",
          "name": "stdout",
          "text": [
            "[1 3]\n",
            "[2 4]\n"
          ]
        }
      ]
    },
    {
      "cell_type": "code",
      "metadata": {
        "colab": {
          "base_uri": "https://localhost:8080/"
        },
        "id": "Cv1uxLMvLy7l",
        "outputId": "01cc6c73-c7a1-4d41-8959-e9092e369df6"
      },
      "source": [
        "print(Arreglo[0])\n",
        "print(Arreglo[1])\n",
        "print(Arreglo[2])"
      ],
      "execution_count": 123,
      "outputs": [
        {
          "output_type": "stream",
          "name": "stdout",
          "text": [
            "[1 0 0]\n",
            "[0 1 0]\n",
            "[0 0 1]\n"
          ]
        }
      ]
    },
    {
      "cell_type": "code",
      "metadata": {
        "colab": {
          "base_uri": "https://localhost:8080/"
        },
        "id": "k13JDb_9L9lU",
        "outputId": "9d94bbf3-8ff2-4fa1-ac85-f5bfb191e88b"
      },
      "source": [
        "print('First column:', Ar[:,0])\n",
        "print('Second column:', Ar[:,1])"
      ],
      "execution_count": 124,
      "outputs": [
        {
          "output_type": "stream",
          "name": "stdout",
          "text": [
            "First column: [1 2]\n",
            "Second column: [3 4]\n"
          ]
        }
      ]
    },
    {
      "cell_type": "code",
      "metadata": {
        "colab": {
          "base_uri": "https://localhost:8080/"
        },
        "id": "GOFdTwsvMFOF",
        "outputId": "a409bf17-9b42-4265-8a6a-9cdd81980097"
      },
      "source": [
        "print('First column:', Arreglo[:,0])\n",
        "print('Second column:', Arreglo[:,1])\n",
        "print('Third column:', Arreglo[:,2])"
      ],
      "execution_count": 125,
      "outputs": [
        {
          "output_type": "stream",
          "name": "stdout",
          "text": [
            "First column: [1 0 0]\n",
            "Second column: [0 1 0]\n",
            "Third column: [0 0 1]\n"
          ]
        }
      ]
    },
    {
      "cell_type": "markdown",
      "metadata": {
        "id": "b8yT7nBJMbUG"
      },
      "source": [
        "###Array Functions"
      ]
    },
    {
      "cell_type": "code",
      "metadata": {
        "colab": {
          "base_uri": "https://localhost:8080/"
        },
        "id": "tczGClaZMZmV",
        "outputId": "4bbab51c-47d1-464c-fe55-90997f2de13a"
      },
      "source": [
        "np.log(price_array)"
      ],
      "execution_count": 126,
      "outputs": [
        {
          "output_type": "execute_result",
          "data": {
            "text/plain": [
              "array([4.96793654, 4.98244156, 4.9675886 , 4.96995218, 4.96633504,\n",
              "       4.96018375])"
            ]
          },
          "metadata": {},
          "execution_count": 126
        }
      ]
    },
    {
      "cell_type": "code",
      "metadata": {
        "colab": {
          "base_uri": "https://localhost:8080/"
        },
        "id": "zyX-ilQHNXEr",
        "outputId": "2ca66668-5449-4acd-b50b-ff786694a20f"
      },
      "source": [
        "np.log(arreglo_precios)"
      ],
      "execution_count": 127,
      "outputs": [
        {
          "output_type": "execute_result",
          "data": {
            "text/plain": [
              "array([1.31640823, 1.763017  , 1.30291275, 1.3912819 , 1.25276297,\n",
              "       0.96317432])"
            ]
          },
          "metadata": {},
          "execution_count": 127
        }
      ]
    },
    {
      "cell_type": "code",
      "metadata": {
        "colab": {
          "base_uri": "https://localhost:8080/"
        },
        "id": "WNILrQgENacZ",
        "outputId": "fc24c816-6e0d-4129-cadc-ac8fd50fe852"
      },
      "source": [
        "print(np.mean(price_array))\n",
        "print(np.std(price_array))\n",
        "print(np.sum(price_array))\n",
        "print(np.max(price_array))"
      ],
      "execution_count": 128,
      "outputs": [
        {
          "output_type": "stream",
          "name": "stdout",
          "text": [
            "143.89666666666668\n",
            "0.9673790478515796\n",
            "863.38\n",
            "145.83\n"
          ]
        }
      ]
    },
    {
      "cell_type": "code",
      "metadata": {
        "colab": {
          "base_uri": "https://localhost:8080/"
        },
        "id": "shf7hC1qOqDp",
        "outputId": "df5c74af-763c-4957-f904-9b8e259bc142"
      },
      "source": [
        "print(np.mean(arreglo_precios))\n",
        "print(np.std(arreglo_precios))\n",
        "print(np.sum(arreglo_precios))\n",
        "print(np.max(arreglo_precios))"
      ],
      "execution_count": 129,
      "outputs": [
        {
          "output_type": "stream",
          "name": "stdout",
          "text": [
            "3.8966666666666665\n",
            "0.9673790478515762\n",
            "23.38\n",
            "5.83\n"
          ]
        }
      ]
    },
    {
      "cell_type": "markdown",
      "metadata": {
        "id": "AwigOqZZODoT"
      },
      "source": [
        "##Pandas"
      ]
    },
    {
      "cell_type": "code",
      "metadata": {
        "id": "4JfALhA6OLek"
      },
      "source": [
        "import pandas as pd"
      ],
      "execution_count": 130,
      "outputs": []
    },
    {
      "cell_type": "markdown",
      "metadata": {
        "id": "kam23C3POJsS"
      },
      "source": [
        "###Series"
      ]
    },
    {
      "cell_type": "code",
      "metadata": {
        "colab": {
          "base_uri": "https://localhost:8080/"
        },
        "id": "awHpBwFBNlta",
        "outputId": "84360028-bcd6-4213-d0b9-2cc257ad7b12"
      },
      "source": [
        "price = [143.73, 145.83, 143.68, 144.02, 143.5, 142.62]\n",
        "s = pd.Series(price)\n",
        "print(s)"
      ],
      "execution_count": 131,
      "outputs": [
        {
          "output_type": "stream",
          "name": "stdout",
          "text": [
            "0    143.73\n",
            "1    145.83\n",
            "2    143.68\n",
            "3    144.02\n",
            "4    143.50\n",
            "5    142.62\n",
            "dtype: float64\n"
          ]
        }
      ]
    },
    {
      "cell_type": "code",
      "metadata": {
        "colab": {
          "base_uri": "https://localhost:8080/"
        },
        "id": "LPH_719pOzUB",
        "outputId": "6ce3aec0-10c1-44e6-9b78-7654ad3912be"
      },
      "source": [
        "precio = [1000,2000,500,600,1500,600]\n",
        "serie = pd.Series(precio)\n",
        "print(serie)"
      ],
      "execution_count": 132,
      "outputs": [
        {
          "output_type": "stream",
          "name": "stdout",
          "text": [
            "0    1000\n",
            "1    2000\n",
            "2     500\n",
            "3     600\n",
            "4    1500\n",
            "5     600\n",
            "dtype: int64\n"
          ]
        }
      ]
    },
    {
      "cell_type": "code",
      "metadata": {
        "colab": {
          "base_uri": "https://localhost:8080/"
        },
        "id": "fmguqFgYPBg5",
        "outputId": "e18f6906-0647-448d-e89d-c4c1b3a1ecaf"
      },
      "source": [
        "s = pd.Series(price, index = ['a', 'b', 'c', 'd', 'e', 'f'])\n",
        "print(s)"
      ],
      "execution_count": 133,
      "outputs": [
        {
          "output_type": "stream",
          "name": "stdout",
          "text": [
            "a    143.73\n",
            "b    145.83\n",
            "c    143.68\n",
            "d    144.02\n",
            "e    143.50\n",
            "f    142.62\n",
            "dtype: float64\n"
          ]
        }
      ]
    },
    {
      "cell_type": "code",
      "metadata": {
        "colab": {
          "base_uri": "https://localhost:8080/"
        },
        "id": "sCo0uQ6rPFvf",
        "outputId": "f372a54e-070a-4a3a-e4ae-a79ec4c8b3ea"
      },
      "source": [
        "serie = pd.Series(precio, index = ['a', 'b', 'c', 'd', 'e','f'])\n",
        "print(serie)"
      ],
      "execution_count": 134,
      "outputs": [
        {
          "output_type": "stream",
          "name": "stdout",
          "text": [
            "a    1000\n",
            "b    2000\n",
            "c     500\n",
            "d     600\n",
            "e    1500\n",
            "f     600\n",
            "dtype: int64\n"
          ]
        }
      ]
    },
    {
      "cell_type": "code",
      "metadata": {
        "colab": {
          "base_uri": "https://localhost:8080/"
        },
        "id": "lBN95mvpPPzf",
        "outputId": "51623cc9-bf68-480c-92ec-d03cd3cf5211"
      },
      "source": [
        "s.index = [6,5,4,3,2,1]\n",
        "print(s)"
      ],
      "execution_count": 135,
      "outputs": [
        {
          "output_type": "stream",
          "name": "stdout",
          "text": [
            "6    143.73\n",
            "5    145.83\n",
            "4    143.68\n",
            "3    144.02\n",
            "2    143.50\n",
            "1    142.62\n",
            "dtype: float64\n"
          ]
        }
      ]
    },
    {
      "cell_type": "code",
      "metadata": {
        "colab": {
          "base_uri": "https://localhost:8080/"
        },
        "id": "9sk34GAKPTz3",
        "outputId": "71940c97-7731-4a2c-a9a2-20cb8004489d"
      },
      "source": [
        "serie.index = [6,5,4,3,2,1]\n",
        "print(serie)"
      ],
      "execution_count": 136,
      "outputs": [
        {
          "output_type": "stream",
          "name": "stdout",
          "text": [
            "6    1000\n",
            "5    2000\n",
            "4     500\n",
            "3     600\n",
            "2    1500\n",
            "1     600\n",
            "dtype: int64\n"
          ]
        }
      ]
    },
    {
      "cell_type": "code",
      "metadata": {
        "colab": {
          "base_uri": "https://localhost:8080/"
        },
        "id": "7UtlnnCQPbeW",
        "outputId": "f9e274af-f18c-4939-89fd-229df793d4c9"
      },
      "source": [
        "print(s[1:])\n",
        "print(s[:-2])"
      ],
      "execution_count": 137,
      "outputs": [
        {
          "output_type": "stream",
          "name": "stdout",
          "text": [
            "5    145.83\n",
            "4    143.68\n",
            "3    144.02\n",
            "2    143.50\n",
            "1    142.62\n",
            "dtype: float64\n",
            "6    143.73\n",
            "5    145.83\n",
            "4    143.68\n",
            "3    144.02\n",
            "dtype: float64\n"
          ]
        }
      ]
    },
    {
      "cell_type": "code",
      "metadata": {
        "colab": {
          "base_uri": "https://localhost:8080/"
        },
        "id": "sfg_t7QMPnw-",
        "outputId": "7d99fa7f-eab6-45eb-af50-893d7507c4a2"
      },
      "source": [
        "print(serie[1:])\n",
        "print(serie[:-2])"
      ],
      "execution_count": 138,
      "outputs": [
        {
          "output_type": "stream",
          "name": "stdout",
          "text": [
            "5    2000\n",
            "4     500\n",
            "3     600\n",
            "2    1500\n",
            "1     600\n",
            "dtype: int64\n",
            "6    1000\n",
            "5    2000\n",
            "4     500\n",
            "3     600\n",
            "dtype: int64\n"
          ]
        }
      ]
    },
    {
      "cell_type": "code",
      "metadata": {
        "colab": {
          "base_uri": "https://localhost:8080/"
        },
        "id": "72Oa2cusQF-N",
        "outputId": "1dbca782-cf7d-4e87-d0ae-32baf6aec349"
      },
      "source": [
        "print(s[4])\n",
        "s[4] = 0\n",
        "print(s)\n"
      ],
      "execution_count": 139,
      "outputs": [
        {
          "output_type": "stream",
          "name": "stdout",
          "text": [
            "143.68\n",
            "6    143.73\n",
            "5    145.83\n",
            "4      0.00\n",
            "3    144.02\n",
            "2    143.50\n",
            "1    142.62\n",
            "dtype: float64\n"
          ]
        }
      ]
    },
    {
      "cell_type": "code",
      "metadata": {
        "colab": {
          "base_uri": "https://localhost:8080/"
        },
        "id": "_rR2YPidQK7O",
        "outputId": "f4b22003-1835-4b6e-ef0f-be8375086171"
      },
      "source": [
        "print(serie[4])\n",
        "serie[4] = 0\n",
        "print(serie)\n"
      ],
      "execution_count": 140,
      "outputs": [
        {
          "output_type": "stream",
          "name": "stdout",
          "text": [
            "500\n",
            "6    1000\n",
            "5    2000\n",
            "4       0\n",
            "3     600\n",
            "2    1500\n",
            "1     600\n",
            "dtype: int64\n"
          ]
        }
      ]
    },
    {
      "cell_type": "code",
      "metadata": {
        "colab": {
          "base_uri": "https://localhost:8080/"
        },
        "id": "t-nOpQTWQQzF",
        "outputId": "7e7c7de6-21fe-44ab-893c-4ef3e6b7d09d"
      },
      "source": [
        "s = pd.Series(price, name = 'Apple Prices')\n",
        "print(s)\n",
        "print(s.name)"
      ],
      "execution_count": 141,
      "outputs": [
        {
          "output_type": "stream",
          "name": "stdout",
          "text": [
            "0    143.73\n",
            "1    145.83\n",
            "2    143.68\n",
            "3    144.02\n",
            "4    143.50\n",
            "5    142.62\n",
            "Name: Apple Prices, dtype: float64\n",
            "Apple Prices\n"
          ]
        }
      ]
    },
    {
      "cell_type": "code",
      "metadata": {
        "colab": {
          "base_uri": "https://localhost:8080/"
        },
        "id": "kNd6kGCfQYB8",
        "outputId": "35c58176-8376-4f45-e9b3-d0e83ec29445"
      },
      "source": [
        "serie = pd.Series(precio, name = 'Precio Manzana')\n",
        "print(serie)\n",
        "print(serie.name)"
      ],
      "execution_count": 142,
      "outputs": [
        {
          "output_type": "stream",
          "name": "stdout",
          "text": [
            "0    1000\n",
            "1    2000\n",
            "2     500\n",
            "3     600\n",
            "4    1500\n",
            "5     600\n",
            "Name: Precio Manzana, dtype: int64\n",
            "Precio Manzana\n"
          ]
        }
      ]
    },
    {
      "cell_type": "code",
      "metadata": {
        "colab": {
          "base_uri": "https://localhost:8080/"
        },
        "id": "kBJBhbv9Qz01",
        "outputId": "f44cd31a-b98e-4a74-eb02-cd25ab342000"
      },
      "source": [
        "print(s.describe())"
      ],
      "execution_count": 143,
      "outputs": [
        {
          "output_type": "stream",
          "name": "stdout",
          "text": [
            "count      6.000000\n",
            "mean     143.896667\n",
            "std        1.059711\n",
            "min      142.620000\n",
            "25%      143.545000\n",
            "50%      143.705000\n",
            "75%      143.947500\n",
            "max      145.830000\n",
            "Name: Apple Prices, dtype: float64\n"
          ]
        }
      ]
    },
    {
      "cell_type": "code",
      "metadata": {
        "colab": {
          "base_uri": "https://localhost:8080/"
        },
        "id": "qR3_65KiQ3AE",
        "outputId": "8e55e1ad-6763-46c7-e349-350a736ee8b9"
      },
      "source": [
        "print(serie.describe())"
      ],
      "execution_count": 144,
      "outputs": [
        {
          "output_type": "stream",
          "name": "stdout",
          "text": [
            "count       6.000000\n",
            "mean     1033.333333\n",
            "std       602.218122\n",
            "min       500.000000\n",
            "25%       600.000000\n",
            "50%       800.000000\n",
            "75%      1375.000000\n",
            "max      2000.000000\n",
            "Name: Precio Manzana, dtype: float64\n"
          ]
        }
      ]
    },
    {
      "cell_type": "markdown",
      "metadata": {
        "id": "wHjs2aXNQ8Np"
      },
      "source": [
        "###Time Index"
      ]
    },
    {
      "cell_type": "code",
      "metadata": {
        "colab": {
          "base_uri": "https://localhost:8080/"
        },
        "id": "aMpK6yCSQ9vM",
        "outputId": "502f554e-2299-4980-c0e4-98e18c4e75c4"
      },
      "source": [
        "time_index = pd.date_range('2017-01-01', periods = len(s), freq = 'D')\n",
        "print(time_index)\n",
        "s.index = time_index\n",
        "print(s)"
      ],
      "execution_count": 145,
      "outputs": [
        {
          "output_type": "stream",
          "name": "stdout",
          "text": [
            "DatetimeIndex(['2017-01-01', '2017-01-02', '2017-01-03', '2017-01-04',\n",
            "               '2017-01-05', '2017-01-06'],\n",
            "              dtype='datetime64[ns]', freq='D')\n",
            "2017-01-01    143.73\n",
            "2017-01-02    145.83\n",
            "2017-01-03    143.68\n",
            "2017-01-04    144.02\n",
            "2017-01-05    143.50\n",
            "2017-01-06    142.62\n",
            "Freq: D, Name: Apple Prices, dtype: float64\n"
          ]
        }
      ]
    },
    {
      "cell_type": "code",
      "metadata": {
        "colab": {
          "base_uri": "https://localhost:8080/"
        },
        "id": "MvExIeKxRaQb",
        "outputId": "e6ce5431-7d75-4ae9-fde9-1cf42ac1cc29"
      },
      "source": [
        "indice_tiempo = pd.date_range('2021-01-01', periods = len(serie), freq = 'D')\n",
        "print(indice_tiempo)\n",
        "serie.index = indice_tiempo\n",
        "print(serie)"
      ],
      "execution_count": 146,
      "outputs": [
        {
          "output_type": "stream",
          "name": "stdout",
          "text": [
            "DatetimeIndex(['2021-01-01', '2021-01-02', '2021-01-03', '2021-01-04',\n",
            "               '2021-01-05', '2021-01-06'],\n",
            "              dtype='datetime64[ns]', freq='D')\n",
            "2021-01-01    1000\n",
            "2021-01-02    2000\n",
            "2021-01-03     500\n",
            "2021-01-04     600\n",
            "2021-01-05    1500\n",
            "2021-01-06     600\n",
            "Freq: D, Name: Precio Manzana, dtype: int64\n"
          ]
        }
      ]
    },
    {
      "cell_type": "code",
      "metadata": {
        "colab": {
          "base_uri": "https://localhost:8080/"
        },
        "id": "o8WpzFSgTjbQ",
        "outputId": "3e6a0ac6-e810-437a-841f-0a851dfb2885"
      },
      "source": [
        "s.index = [6,5,4,3,2,1]\n",
        "print(s)\n",
        "print(s[1])\n"
      ],
      "execution_count": 147,
      "outputs": [
        {
          "output_type": "stream",
          "name": "stdout",
          "text": [
            "6    143.73\n",
            "5    145.83\n",
            "4    143.68\n",
            "3    144.02\n",
            "2    143.50\n",
            "1    142.62\n",
            "Name: Apple Prices, dtype: float64\n",
            "142.62\n"
          ]
        }
      ]
    },
    {
      "cell_type": "code",
      "metadata": {
        "colab": {
          "base_uri": "https://localhost:8080/"
        },
        "id": "WVISRaP2Tqx3",
        "outputId": "98ce619e-e0ec-4c9e-9c2c-61f99a64aa61"
      },
      "source": [
        "serie.index = [6,5,4,3,2,1]\n",
        "print(serie)\n",
        "print(serie[1])"
      ],
      "execution_count": 148,
      "outputs": [
        {
          "output_type": "stream",
          "name": "stdout",
          "text": [
            "6    1000\n",
            "5    2000\n",
            "4     500\n",
            "3     600\n",
            "2    1500\n",
            "1     600\n",
            "Name: Precio Manzana, dtype: int64\n",
            "600\n"
          ]
        }
      ]
    },
    {
      "cell_type": "code",
      "metadata": {
        "colab": {
          "base_uri": "https://localhost:8080/"
        },
        "id": "SR3zfrgMTw3f",
        "outputId": "0fa544bb-6baf-4d05-bb44-7f755438ff2d"
      },
      "source": [
        "print(s.iloc[1])"
      ],
      "execution_count": 149,
      "outputs": [
        {
          "output_type": "stream",
          "name": "stdout",
          "text": [
            "145.83\n"
          ]
        }
      ]
    },
    {
      "cell_type": "code",
      "metadata": {
        "colab": {
          "base_uri": "https://localhost:8080/"
        },
        "id": "atUxQEOmT2Ge",
        "outputId": "24aa4210-b727-4597-c862-c4d70593165e"
      },
      "source": [
        "print(serie.iloc[1])"
      ],
      "execution_count": 150,
      "outputs": [
        {
          "output_type": "stream",
          "name": "stdout",
          "text": [
            "2000\n"
          ]
        }
      ]
    },
    {
      "cell_type": "code",
      "metadata": {
        "colab": {
          "base_uri": "https://localhost:8080/"
        },
        "id": "wH4CZ_wPT8L_",
        "outputId": "0f49ac4f-6fe0-4a88-af51-6e1513af0439"
      },
      "source": [
        "s.index = time_index\n",
        "print(s['2017-01-01'])"
      ],
      "execution_count": 151,
      "outputs": [
        {
          "output_type": "stream",
          "name": "stdout",
          "text": [
            "143.73\n"
          ]
        }
      ]
    },
    {
      "cell_type": "code",
      "metadata": {
        "colab": {
          "base_uri": "https://localhost:8080/"
        },
        "id": "ly-en0zNWLDq",
        "outputId": "69dbfbd0-dcc0-4f4e-d899-b55d517432f5"
      },
      "source": [
        "serie.index = indice_tiempo\n",
        "print(serie['2021-01-01'])"
      ],
      "execution_count": 152,
      "outputs": [
        {
          "output_type": "stream",
          "name": "stdout",
          "text": [
            "1000\n"
          ]
        }
      ]
    },
    {
      "cell_type": "code",
      "metadata": {
        "colab": {
          "base_uri": "https://localhost:8080/"
        },
        "id": "oV4MkrhwWUjr",
        "outputId": "4f69e384-4c33-4d4a-ca56-b99a2b7e0146"
      },
      "source": [
        "print(s['2017-01-02':'2017-01-05'])"
      ],
      "execution_count": 153,
      "outputs": [
        {
          "output_type": "stream",
          "name": "stdout",
          "text": [
            "2017-01-02    145.83\n",
            "2017-01-03    143.68\n",
            "2017-01-04    144.02\n",
            "2017-01-05    143.50\n",
            "Freq: D, Name: Apple Prices, dtype: float64\n"
          ]
        }
      ]
    },
    {
      "cell_type": "code",
      "metadata": {
        "colab": {
          "base_uri": "https://localhost:8080/"
        },
        "id": "9bT_Wl5IWXEJ",
        "outputId": "bcf07456-052d-4f14-8742-1ae50434ab89"
      },
      "source": [
        "print(serie['2021-01-02':'2021-01-05'])"
      ],
      "execution_count": 154,
      "outputs": [
        {
          "output_type": "stream",
          "name": "stdout",
          "text": [
            "2021-01-02    2000\n",
            "2021-01-03     500\n",
            "2021-01-04     600\n",
            "2021-01-05    1500\n",
            "Freq: D, Name: Precio Manzana, dtype: int64\n"
          ]
        }
      ]
    },
    {
      "cell_type": "code",
      "metadata": {
        "colab": {
          "base_uri": "https://localhost:8080/"
        },
        "id": "BRQnQVBZWg79",
        "outputId": "7586ec08-734b-44d1-ff9f-954270af6607"
      },
      "source": [
        "print(s[s < np.mean(s)])\n",
        "print(s[(s > np.mean(s)) & (s < np.mean(s) + 1.64*np.std(s))])"
      ],
      "execution_count": 155,
      "outputs": [
        {
          "output_type": "stream",
          "name": "stdout",
          "text": [
            "2017-01-01    143.73\n",
            "2017-01-03    143.68\n",
            "2017-01-05    143.50\n",
            "2017-01-06    142.62\n",
            "Name: Apple Prices, dtype: float64\n",
            "2017-01-04    144.02\n",
            "Freq: D, Name: Apple Prices, dtype: float64\n"
          ]
        }
      ]
    },
    {
      "cell_type": "code",
      "metadata": {
        "colab": {
          "base_uri": "https://localhost:8080/"
        },
        "id": "YXvdi6dlWk2z",
        "outputId": "552eafdc-72d6-44d0-c80e-8441455d39a3"
      },
      "source": [
        "print(serie[serie < np.mean(serie)])\n",
        "print(serie[(serie > np.mean(serie)) & (serie < np.mean(serie) + 1.64*np.std(serie))])"
      ],
      "execution_count": 156,
      "outputs": [
        {
          "output_type": "stream",
          "name": "stdout",
          "text": [
            "2021-01-01    1000\n",
            "2021-01-03     500\n",
            "2021-01-04     600\n",
            "2021-01-06     600\n",
            "Name: Precio Manzana, dtype: int64\n",
            "2021-01-05    1500\n",
            "Freq: D, Name: Precio Manzana, dtype: int64\n"
          ]
        }
      ]
    },
    {
      "cell_type": "markdown",
      "metadata": {
        "id": "VB2bmHX1XnpX"
      },
      "source": [
        "#TUTORIAL 5"
      ]
    },
    {
      "cell_type": "markdown",
      "metadata": {
        "id": "VO8XLn3rcIHj"
      },
      "source": [
        "##Fetching Data"
      ]
    },
    {
      "cell_type": "code",
      "metadata": {
        "colab": {
          "base_uri": "https://localhost:8080/"
        },
        "id": "wUtbYlFfYvuM",
        "outputId": "c60c9a74-e2f8-4823-9d5c-5f58d2bc487b"
      },
      "source": [
        "!pip install --upgrade quandl"
      ],
      "execution_count": 157,
      "outputs": [
        {
          "output_type": "stream",
          "name": "stdout",
          "text": [
            "Requirement already satisfied: quandl in /usr/local/lib/python3.7/dist-packages (3.6.1)\n",
            "Requirement already satisfied: six in /usr/local/lib/python3.7/dist-packages (from quandl) (1.15.0)\n",
            "Requirement already satisfied: numpy>=1.8 in /usr/local/lib/python3.7/dist-packages (from quandl) (1.19.5)\n",
            "Requirement already satisfied: python-dateutil in /usr/local/lib/python3.7/dist-packages (from quandl) (2.8.2)\n",
            "Requirement already satisfied: requests>=2.7.0 in /usr/local/lib/python3.7/dist-packages (from quandl) (2.23.0)\n",
            "Requirement already satisfied: pandas>=0.14 in /usr/local/lib/python3.7/dist-packages (from quandl) (1.1.5)\n",
            "Requirement already satisfied: more-itertools in /usr/local/lib/python3.7/dist-packages (from quandl) (8.10.0)\n",
            "Requirement already satisfied: inflection>=0.3.1 in /usr/local/lib/python3.7/dist-packages (from quandl) (0.5.1)\n",
            "Requirement already satisfied: pytz>=2017.2 in /usr/local/lib/python3.7/dist-packages (from pandas>=0.14->quandl) (2018.9)\n",
            "Requirement already satisfied: idna<3,>=2.5 in /usr/local/lib/python3.7/dist-packages (from requests>=2.7.0->quandl) (2.10)\n",
            "Requirement already satisfied: certifi>=2017.4.17 in /usr/local/lib/python3.7/dist-packages (from requests>=2.7.0->quandl) (2021.5.30)\n",
            "Requirement already satisfied: urllib3!=1.25.0,!=1.25.1,<1.26,>=1.21.1 in /usr/local/lib/python3.7/dist-packages (from requests>=2.7.0->quandl) (1.24.3)\n",
            "Requirement already satisfied: chardet<4,>=3.0.2 in /usr/local/lib/python3.7/dist-packages (from requests>=2.7.0->quandl) (3.0.4)\n"
          ]
        }
      ]
    },
    {
      "cell_type": "code",
      "metadata": {
        "id": "OuQxgyyDYyvF"
      },
      "source": [
        "import quandl\n",
        "quandl.ApiConfig.api_key = 'DeGodyKnkEDLUzkWSMrn'"
      ],
      "execution_count": 158,
      "outputs": []
    },
    {
      "cell_type": "code",
      "metadata": {
        "colab": {
          "base_uri": "https://localhost:8080/"
        },
        "id": "NDI6vMPMbMiM",
        "outputId": "10b6f43b-4a8c-4f8b-ba11-f03df311e754"
      },
      "source": [
        "aapl_table = quandl.get('WIKI/AAPL')\n",
        "aapl = aapl_table['Adj. Close']['2017']\n",
        "print(aapl)"
      ],
      "execution_count": 159,
      "outputs": [
        {
          "output_type": "stream",
          "name": "stdout",
          "text": [
            "Date\n",
            "2017-01-03    114.715378\n",
            "2017-01-04    114.586983\n",
            "2017-01-05    115.169696\n",
            "2017-01-06    116.453639\n",
            "2017-01-09    117.520300\n",
            "                 ...    \n",
            "2017-12-22    175.010000\n",
            "2017-12-26    170.570000\n",
            "2017-12-27    170.600000\n",
            "2017-12-28    171.080000\n",
            "2017-12-29    169.230000\n",
            "Name: Adj. Close, Length: 249, dtype: float64\n"
          ]
        }
      ]
    },
    {
      "cell_type": "code",
      "metadata": {
        "colab": {
          "base_uri": "https://localhost:8080/"
        },
        "id": "V5Vf62DpbqRf",
        "outputId": "5bed7b25-5c67-4aea-a648-c162de83cf13"
      },
      "source": [
        "print(aapl['2017-3'])"
      ],
      "execution_count": 160,
      "outputs": [
        {
          "output_type": "stream",
          "name": "stdout",
          "text": [
            "Date\n",
            "2017-03-01    138.657681\n",
            "2017-03-02    137.834404\n",
            "2017-03-03    138.647762\n",
            "2017-03-06    138.211326\n",
            "2017-03-07    138.389868\n",
            "2017-03-08    137.874080\n",
            "2017-03-09    137.556672\n",
            "2017-03-10    138.012946\n",
            "2017-03-13    138.072460\n",
            "2017-03-14    137.864161\n",
            "2017-03-15    139.322254\n",
            "2017-03-16    139.550391\n",
            "2017-03-17    138.856061\n",
            "2017-03-20    140.314154\n",
            "2017-03-21    138.707276\n",
            "2017-03-22    140.274478\n",
            "2017-03-23    139.778528\n",
            "2017-03-24    139.500796\n",
            "2017-03-27    139.738852\n",
            "2017-03-28    142.635200\n",
            "2017-03-29    142.952608\n",
            "2017-03-30    142.764147\n",
            "2017-03-31    142.496334\n",
            "Name: Adj. Close, dtype: float64\n"
          ]
        }
      ]
    },
    {
      "cell_type": "code",
      "metadata": {
        "colab": {
          "base_uri": "https://localhost:8080/"
        },
        "id": "qkKxHEbtb18_",
        "outputId": "f8c9402f-a427-4392-df67-3775b869a8eb"
      },
      "source": [
        "aapl['2017-2':'2017-4']"
      ],
      "execution_count": 161,
      "outputs": [
        {
          "output_type": "execute_result",
          "data": {
            "text/plain": [
              "Date\n",
              "2017-02-01    127.159749\n",
              "2017-02-02    126.942467\n",
              "2017-02-03    127.485673\n",
              "2017-02-06    128.680728\n",
              "2017-02-07    129.905412\n",
              "                 ...    \n",
              "2017-04-24    142.476496\n",
              "2017-04-25    143.369205\n",
              "2017-04-26    142.487208\n",
              "2017-04-27    142.625281\n",
              "2017-04-28    142.486415\n",
              "Name: Adj. Close, Length: 61, dtype: float64"
            ]
          },
          "metadata": {},
          "execution_count": 161
        }
      ]
    },
    {
      "cell_type": "code",
      "metadata": {
        "colab": {
          "base_uri": "https://localhost:8080/"
        },
        "id": "mfMtY1H3b5g_",
        "outputId": "00916530-4209-4d48-d506-a709732edc74"
      },
      "source": [
        "print(aapl.head())\n",
        "print(aapl.tail(10))"
      ],
      "execution_count": 162,
      "outputs": [
        {
          "output_type": "stream",
          "name": "stdout",
          "text": [
            "Date\n",
            "2017-01-03    114.715378\n",
            "2017-01-04    114.586983\n",
            "2017-01-05    115.169696\n",
            "2017-01-06    116.453639\n",
            "2017-01-09    117.520300\n",
            "Name: Adj. Close, dtype: float64\n",
            "Date\n",
            "2017-12-15    173.87\n",
            "2017-12-18    176.42\n",
            "2017-12-19    174.54\n",
            "2017-12-20    174.35\n",
            "2017-12-21    175.01\n",
            "2017-12-22    175.01\n",
            "2017-12-26    170.57\n",
            "2017-12-27    170.60\n",
            "2017-12-28    171.08\n",
            "2017-12-29    169.23\n",
            "Name: Adj. Close, dtype: float64\n"
          ]
        }
      ]
    },
    {
      "cell_type": "markdown",
      "metadata": {
        "id": "Z3ZbJ7gDcKnG"
      },
      "source": [
        "##Resampling"
      ]
    },
    {
      "cell_type": "code",
      "metadata": {
        "colab": {
          "base_uri": "https://localhost:8080/"
        },
        "id": "0QgRY8LncOCP",
        "outputId": "b4bdb18f-58bd-4cc7-a118-ea3b88f739b4"
      },
      "source": [
        "by_month = aapl.resample('M').mean()\n",
        "print(by_month)"
      ],
      "execution_count": 163,
      "outputs": [
        {
          "output_type": "stream",
          "name": "stdout",
          "text": [
            "Date\n",
            "2017-01-31    118.093136\n",
            "2017-02-28    132.456268\n",
            "2017-03-31    139.478802\n",
            "2017-04-30    141.728436\n",
            "2017-05-31    151.386305\n",
            "2017-06-30    147.233064\n",
            "2017-07-31    147.706190\n",
            "2017-08-31    158.856375\n",
            "2017-09-30    157.606500\n",
            "2017-10-31    157.811627\n",
            "2017-11-30    172.214500\n",
            "2017-12-31    171.893100\n",
            "Freq: M, Name: Adj. Close, dtype: float64\n"
          ]
        }
      ]
    },
    {
      "cell_type": "code",
      "metadata": {
        "colab": {
          "base_uri": "https://localhost:8080/"
        },
        "id": "JyjSAGuUcVL2",
        "outputId": "de61ef5b-b76e-4412-b584-556d06bf0956"
      },
      "source": [
        "by_week = aapl.resample('W').mean()\n",
        "print(by_week.head())\n"
      ],
      "execution_count": 164,
      "outputs": [
        {
          "output_type": "stream",
          "name": "stdout",
          "text": [
            "Date\n",
            "2017-01-08    115.231424\n",
            "2017-01-15    117.755360\n",
            "2017-01-22    118.461035\n",
            "2017-01-29    119.667448\n",
            "2017-02-05    124.313346\n",
            "Freq: W-SUN, Name: Adj. Close, dtype: float64\n"
          ]
        }
      ]
    },
    {
      "cell_type": "code",
      "metadata": {
        "id": "YG-6EHQNcgC4"
      },
      "source": [
        "three_day = aapl.resample('3D').mean()\n",
        "two_week  = aapl.resample('2W').mean()\n",
        "two_month = aapl.resample('2M').mean()"
      ],
      "execution_count": 165,
      "outputs": []
    },
    {
      "cell_type": "code",
      "metadata": {
        "id": "EpkeeFRSchbX"
      },
      "source": [
        "std = aapl.resample('W').std()    # standard deviation\n",
        "max = aapl.resample('W').max()    # maximum value\n",
        "min = aapl.resample('W').min()    # minimum value"
      ],
      "execution_count": 166,
      "outputs": []
    },
    {
      "cell_type": "code",
      "metadata": {
        "colab": {
          "base_uri": "https://localhost:8080/"
        },
        "id": "qKWs2d1pcmU-",
        "outputId": "07bbccf2-7e5f-46ce-9dc2-b9c54021a4b5"
      },
      "source": [
        "last_day = aapl.resample('M').agg(lambda x: x[-1])\n",
        "print(last_day)"
      ],
      "execution_count": 167,
      "outputs": [
        {
          "output_type": "stream",
          "name": "stdout",
          "text": [
            "Date\n",
            "2017-01-31    119.851150\n",
            "2017-02-28    135.880362\n",
            "2017-03-31    142.496334\n",
            "2017-04-30    142.486415\n",
            "2017-05-31    152.142689\n",
            "2017-06-30    143.438008\n",
            "2017-07-31    148.248489\n",
            "2017-08-31    164.000000\n",
            "2017-09-30    154.120000\n",
            "2017-10-31    169.040000\n",
            "2017-11-30    171.850000\n",
            "2017-12-31    169.230000\n",
            "Freq: M, Name: Adj. Close, dtype: float64\n"
          ]
        }
      ]
    },
    {
      "cell_type": "code",
      "metadata": {
        "colab": {
          "base_uri": "https://localhost:8080/"
        },
        "id": "2uz2sm-vcpwX",
        "outputId": "055adf27-8893-41ba-bd76-3c220189b1c5"
      },
      "source": [
        "monthly_return = aapl.resample('M').agg(lambda x: x[-1]/x[1] - 1)\n",
        "print(monthly_return)"
      ],
      "execution_count": 168,
      "outputs": [
        {
          "output_type": "stream",
          "name": "stdout",
          "text": [
            "Date\n",
            "2017-01-31    0.045940\n",
            "2017-02-28    0.070409\n",
            "2017-03-31    0.033823\n",
            "2017-04-30   -0.007736\n",
            "2017-05-31    0.039829\n",
            "2017-06-30   -0.073528\n",
            "2017-07-31    0.033035\n",
            "2017-08-31    0.047890\n",
            "2017-09-30   -0.049112\n",
            "2017-10-31    0.094252\n",
            "2017-11-30    0.022247\n",
            "2017-12-31   -0.003357\n",
            "Freq: M, Name: Adj. Close, dtype: float64\n"
          ]
        }
      ]
    },
    {
      "cell_type": "code",
      "metadata": {
        "colab": {
          "base_uri": "https://localhost:8080/"
        },
        "id": "suAzmssBc4yO",
        "outputId": "f165d3de-76eb-4838-a4a3-dd6063714316"
      },
      "source": [
        "print(monthly_return.mean())\n",
        "print(monthly_return.std())\n",
        "print(monthly_return.max())"
      ],
      "execution_count": 169,
      "outputs": [
        {
          "output_type": "stream",
          "name": "stdout",
          "text": [
            "0.02114094011940022\n",
            "0.04775652864223314\n",
            "0.09425168306576914\n"
          ]
        }
      ]
    },
    {
      "cell_type": "code",
      "metadata": {
        "colab": {
          "base_uri": "https://localhost:8080/"
        },
        "id": "ACpe7PSxc-z_",
        "outputId": "68f91d72-f688-4463-c660-1eca02106bfa"
      },
      "source": [
        "print(last_day.diff())\n",
        "print(last_day.pct_change())"
      ],
      "execution_count": 170,
      "outputs": [
        {
          "output_type": "stream",
          "name": "stdout",
          "text": [
            "Date\n",
            "2017-01-31          NaN\n",
            "2017-02-28    16.029211\n",
            "2017-03-31     6.615972\n",
            "2017-04-30    -0.009919\n",
            "2017-05-31     9.656274\n",
            "2017-06-30    -8.704681\n",
            "2017-07-31     4.810482\n",
            "2017-08-31    15.751511\n",
            "2017-09-30    -9.880000\n",
            "2017-10-31    14.920000\n",
            "2017-11-30     2.810000\n",
            "2017-12-31    -2.620000\n",
            "Freq: M, Name: Adj. Close, dtype: float64\n",
            "Date\n",
            "2017-01-31         NaN\n",
            "2017-02-28    0.133743\n",
            "2017-03-31    0.048690\n",
            "2017-04-30   -0.000070\n",
            "2017-05-31    0.067770\n",
            "2017-06-30   -0.057214\n",
            "2017-07-31    0.033537\n",
            "2017-08-31    0.106251\n",
            "2017-09-30   -0.060244\n",
            "2017-10-31    0.096808\n",
            "2017-11-30    0.016623\n",
            "2017-12-31   -0.015246\n",
            "Freq: M, Name: Adj. Close, dtype: float64\n"
          ]
        }
      ]
    },
    {
      "cell_type": "code",
      "metadata": {
        "colab": {
          "base_uri": "https://localhost:8080/"
        },
        "id": "rIpcgGU0dHEk",
        "outputId": "f9fa430d-26ba-4896-bd25-ec158ea9e4f0"
      },
      "source": [
        "daily_return = last_day.pct_change()\n",
        "print(daily_return.fillna(0))"
      ],
      "execution_count": 171,
      "outputs": [
        {
          "output_type": "stream",
          "name": "stdout",
          "text": [
            "Date\n",
            "2017-01-31    0.000000\n",
            "2017-02-28    0.133743\n",
            "2017-03-31    0.048690\n",
            "2017-04-30   -0.000070\n",
            "2017-05-31    0.067770\n",
            "2017-06-30   -0.057214\n",
            "2017-07-31    0.033537\n",
            "2017-08-31    0.106251\n",
            "2017-09-30   -0.060244\n",
            "2017-10-31    0.096808\n",
            "2017-11-30    0.016623\n",
            "2017-12-31   -0.015246\n",
            "Freq: M, Name: Adj. Close, dtype: float64\n"
          ]
        }
      ]
    },
    {
      "cell_type": "code",
      "metadata": {
        "colab": {
          "base_uri": "https://localhost:8080/"
        },
        "id": "dZ5s9l0DdLV2",
        "outputId": "3e885453-9bd8-4121-95a3-3d6f15f1db02"
      },
      "source": [
        "daily_return = last_day.pct_change()\n",
        "print(daily_return.fillna(method = 'bfill'))"
      ],
      "execution_count": 172,
      "outputs": [
        {
          "output_type": "stream",
          "name": "stdout",
          "text": [
            "Date\n",
            "2017-01-31    0.133743\n",
            "2017-02-28    0.133743\n",
            "2017-03-31    0.048690\n",
            "2017-04-30   -0.000070\n",
            "2017-05-31    0.067770\n",
            "2017-06-30   -0.057214\n",
            "2017-07-31    0.033537\n",
            "2017-08-31    0.106251\n",
            "2017-09-30   -0.060244\n",
            "2017-10-31    0.096808\n",
            "2017-11-30    0.016623\n",
            "2017-12-31   -0.015246\n",
            "Freq: M, Name: Adj. Close, dtype: float64\n"
          ]
        }
      ]
    },
    {
      "cell_type": "code",
      "metadata": {
        "colab": {
          "base_uri": "https://localhost:8080/"
        },
        "id": "uGoOOg_6dQ0-",
        "outputId": "6e34df77-fd4c-48c8-cbef-3c58eec6b490"
      },
      "source": [
        "daily_return = last_day.pct_change().dropna()\n",
        "print(daily_return)"
      ],
      "execution_count": 173,
      "outputs": [
        {
          "output_type": "stream",
          "name": "stdout",
          "text": [
            "Date\n",
            "2017-02-28    0.133743\n",
            "2017-03-31    0.048690\n",
            "2017-04-30   -0.000070\n",
            "2017-05-31    0.067770\n",
            "2017-06-30   -0.057214\n",
            "2017-07-31    0.033537\n",
            "2017-08-31    0.106251\n",
            "2017-09-30   -0.060244\n",
            "2017-10-31    0.096808\n",
            "2017-11-30    0.016623\n",
            "2017-12-31   -0.015246\n",
            "Freq: M, Name: Adj. Close, dtype: float64\n"
          ]
        }
      ]
    },
    {
      "cell_type": "markdown",
      "metadata": {
        "id": "7H6GqfWxdbUo"
      },
      "source": [
        "##DataFrame"
      ]
    },
    {
      "cell_type": "markdown",
      "metadata": {
        "id": "3D_UHOuUdfM-"
      },
      "source": [
        "###Create DataFrames"
      ]
    },
    {
      "cell_type": "code",
      "metadata": {
        "colab": {
          "base_uri": "https://localhost:8080/"
        },
        "id": "chRCJIyAdcb0",
        "outputId": "717483ca-227d-435b-84df-93785aab3604"
      },
      "source": [
        "dict = {'AAPL': [143.5,  144.09, 142.73, 144.18, 143.77],\n",
        "        'GOOG': [898.7,  911.71, 906.69, 918.59, 926.99],\n",
        "        'IBM':  [155.58, 153.67, 152.36, 152.94, 153.49]}\n",
        "dates = pd.date_range('2017-07-03', periods = 5, freq = 'D')\n",
        "df = pd.DataFrame(dict, index = dates)\n",
        "print(df)"
      ],
      "execution_count": 174,
      "outputs": [
        {
          "output_type": "stream",
          "name": "stdout",
          "text": [
            "              AAPL    GOOG     IBM\n",
            "2017-07-03  143.50  898.70  155.58\n",
            "2017-07-04  144.09  911.71  153.67\n",
            "2017-07-05  142.73  906.69  152.36\n",
            "2017-07-06  144.18  918.59  152.94\n",
            "2017-07-07  143.77  926.99  153.49\n"
          ]
        }
      ]
    },
    {
      "cell_type": "markdown",
      "metadata": {
        "id": "akp7NhaZdnNt"
      },
      "source": [
        "###Manipulating DataFrames"
      ]
    },
    {
      "cell_type": "code",
      "metadata": {
        "colab": {
          "base_uri": "https://localhost:8080/"
        },
        "id": "xA6PRWN6dk4W",
        "outputId": "38542e7f-2fa9-4630-d00d-f232c329f711"
      },
      "source": [
        "df = aapl_table\n",
        "print(df.Close.tail(5))\n",
        "print(df['Adj. Volume'].tail(5))"
      ],
      "execution_count": 175,
      "outputs": [
        {
          "output_type": "stream",
          "name": "stdout",
          "text": [
            "Date\n",
            "2018-03-21    171.270\n",
            "2018-03-22    168.845\n",
            "2018-03-23    164.940\n",
            "2018-03-26    172.770\n",
            "2018-03-27    168.340\n",
            "Name: Close, dtype: float64\n",
            "Date\n",
            "2018-03-21    35247358.0\n",
            "2018-03-22    41051076.0\n",
            "2018-03-23    40248954.0\n",
            "2018-03-26    36272617.0\n",
            "2018-03-27    38962839.0\n",
            "Name: Adj. Volume, dtype: float64\n"
          ]
        }
      ]
    },
    {
      "cell_type": "code",
      "metadata": {
        "colab": {
          "base_uri": "https://localhost:8080/"
        },
        "id": "iD2ZS7sNduqt",
        "outputId": "399c0035-ada4-46fd-abdd-7f4cd5f969e1"
      },
      "source": [
        "aapl_2016 = df['2016']\n",
        "aapl_month = aapl_2016.resample('M').agg(lambda x: x[-1])\n",
        "print(aapl_month)"
      ],
      "execution_count": 176,
      "outputs": [
        {
          "output_type": "stream",
          "name": "stdout",
          "text": [
            "              Open      High     Low  ...    Adj. Low  Adj. Close  Adj. Volume\n",
            "Date                                  ...                                     \n",
            "2016-01-31   94.79   97.3400   94.35  ...   91.156128   94.044912   64416504.0\n",
            "2016-02-29   96.86   98.2300   96.65  ...   93.880927   93.919781   35216277.0\n",
            "2016-03-31  109.72  109.9000  108.88  ...  105.760531  105.867380   25888449.0\n",
            "2016-04-30   93.99   94.7200   92.51  ...   89.859540   91.054300   68531478.0\n",
            "2016-05-31   99.60  100.4000   98.82  ...   96.575559   97.591939   42307212.0\n",
            "2016-06-30   94.44   95.7700   94.30  ...   92.158220   93.428693   35836356.0\n",
            "2016-07-31  104.19  104.5500  103.68  ...  101.325177  101.843140   27733688.0\n",
            "2016-08-31  105.66  106.5699  105.64  ...  103.796505  104.248477   29662406.0\n",
            "2016-09-30  112.46  113.3700  111.80  ...  109.849008  111.077195   36379106.0\n",
            "2016-10-31  113.65  114.2300  113.20  ...  111.224577  111.558644   26419398.0\n",
            "2016-11-30  111.56  112.2000  110.27  ...  108.908004  109.154917   36162258.0\n",
            "2016-12-31  116.65  117.2000  115.43  ...  114.004271  114.389454   30586265.0\n",
            "\n",
            "[12 rows x 12 columns]\n"
          ]
        }
      ]
    },
    {
      "cell_type": "code",
      "metadata": {
        "colab": {
          "base_uri": "https://localhost:8080/"
        },
        "id": "zs4cFCdId-aN",
        "outputId": "8fff34a4-aac8-451d-f639-057383a9d215"
      },
      "source": [
        "aapl_bar = aapl_month[['Open', 'High', 'Low', 'Close']]\n",
        "print(aapl_bar)"
      ],
      "execution_count": 177,
      "outputs": [
        {
          "output_type": "stream",
          "name": "stdout",
          "text": [
            "              Open      High     Low   Close\n",
            "Date                                        \n",
            "2016-01-31   94.79   97.3400   94.35   97.34\n",
            "2016-02-29   96.86   98.2300   96.65   96.69\n",
            "2016-03-31  109.72  109.9000  108.88  108.99\n",
            "2016-04-30   93.99   94.7200   92.51   93.74\n",
            "2016-05-31   99.60  100.4000   98.82   99.86\n",
            "2016-06-30   94.44   95.7700   94.30   95.60\n",
            "2016-07-31  104.19  104.5500  103.68  104.21\n",
            "2016-08-31  105.66  106.5699  105.64  106.10\n",
            "2016-09-30  112.46  113.3700  111.80  113.05\n",
            "2016-10-31  113.65  114.2300  113.20  113.54\n",
            "2016-11-30  111.56  112.2000  110.27  110.52\n",
            "2016-12-31  116.65  117.2000  115.43  115.82\n"
          ]
        }
      ]
    },
    {
      "cell_type": "code",
      "metadata": {
        "colab": {
          "base_uri": "https://localhost:8080/"
        },
        "id": "iO9sy8ZieliR",
        "outputId": "792be2c1-820e-46b0-9d8b-e67b57dc50db"
      },
      "source": [
        "print(aapl_month.loc['2016-03':'2016-06', ['Open', 'High', 'Low', 'Close']])"
      ],
      "execution_count": 178,
      "outputs": [
        {
          "output_type": "stream",
          "name": "stdout",
          "text": [
            "              Open    High     Low   Close\n",
            "Date                                      \n",
            "2016-03-31  109.72  109.90  108.88  108.99\n",
            "2016-04-30   93.99   94.72   92.51   93.74\n",
            "2016-05-31   99.60  100.40   98.82   99.86\n",
            "2016-06-30   94.44   95.77   94.30   95.60\n"
          ]
        }
      ]
    },
    {
      "cell_type": "code",
      "metadata": {
        "colab": {
          "base_uri": "https://localhost:8080/"
        },
        "id": "aKrW3wSOeqv5",
        "outputId": "6a39bd38-6ba3-4fe6-f308-6008ea446a64"
      },
      "source": [
        "above = aapl_bar[aapl_bar.Close > np.mean(aapl_bar.Close)]\n",
        "print(above)"
      ],
      "execution_count": 179,
      "outputs": [
        {
          "output_type": "stream",
          "name": "stdout",
          "text": [
            "              Open      High     Low   Close\n",
            "Date                                        \n",
            "2016-03-31  109.72  109.9000  108.88  108.99\n",
            "2016-08-31  105.66  106.5699  105.64  106.10\n",
            "2016-09-30  112.46  113.3700  111.80  113.05\n",
            "2016-10-31  113.65  114.2300  113.20  113.54\n",
            "2016-11-30  111.56  112.2000  110.27  110.52\n",
            "2016-12-31  116.65  117.2000  115.43  115.82\n"
          ]
        }
      ]
    },
    {
      "cell_type": "markdown",
      "metadata": {
        "id": "IPbRZn8JexsF"
      },
      "source": [
        "###Data Validation"
      ]
    },
    {
      "cell_type": "code",
      "metadata": {
        "colab": {
          "base_uri": "https://localhost:8080/"
        },
        "id": "dZ3D0L3Weva6",
        "outputId": "f1796573-7014-437d-e595-71defea3a93f"
      },
      "source": [
        "aapl_bar['rate_return'] = aapl_bar.Close.pct_change()\n",
        "print(aapl_bar)"
      ],
      "execution_count": 180,
      "outputs": [
        {
          "output_type": "stream",
          "name": "stdout",
          "text": [
            "              Open      High     Low   Close  rate_return\n",
            "Date                                                     \n",
            "2016-01-31   94.79   97.3400   94.35   97.34          NaN\n",
            "2016-02-29   96.86   98.2300   96.65   96.69    -0.006678\n",
            "2016-03-31  109.72  109.9000  108.88  108.99     0.127211\n",
            "2016-04-30   93.99   94.7200   92.51   93.74    -0.139921\n",
            "2016-05-31   99.60  100.4000   98.82   99.86     0.065287\n",
            "2016-06-30   94.44   95.7700   94.30   95.60    -0.042660\n",
            "2016-07-31  104.19  104.5500  103.68  104.21     0.090063\n",
            "2016-08-31  105.66  106.5699  105.64  106.10     0.018136\n",
            "2016-09-30  112.46  113.3700  111.80  113.05     0.065504\n",
            "2016-10-31  113.65  114.2300  113.20  113.54     0.004334\n",
            "2016-11-30  111.56  112.2000  110.27  110.52    -0.026599\n",
            "2016-12-31  116.65  117.2000  115.43  115.82     0.047955\n"
          ]
        },
        {
          "output_type": "stream",
          "name": "stderr",
          "text": [
            "/usr/local/lib/python3.7/dist-packages/ipykernel_launcher.py:1: SettingWithCopyWarning: \n",
            "A value is trying to be set on a copy of a slice from a DataFrame.\n",
            "Try using .loc[row_indexer,col_indexer] = value instead\n",
            "\n",
            "See the caveats in the documentation: https://pandas.pydata.org/pandas-docs/stable/user_guide/indexing.html#returning-a-view-versus-a-copy\n",
            "  \"\"\"Entry point for launching an IPython kernel.\n"
          ]
        }
      ]
    },
    {
      "cell_type": "code",
      "metadata": {
        "colab": {
          "base_uri": "https://localhost:8080/"
        },
        "id": "IUQ359u-e-2p",
        "outputId": "d9d29263-8b32-46c9-e7ef-dcff5db9107a"
      },
      "source": [
        "missing = aapl_bar.isnull()\n",
        "print(missing)\n",
        "print('---------------------------------------------')\n",
        "print(missing.describe())"
      ],
      "execution_count": 181,
      "outputs": [
        {
          "output_type": "stream",
          "name": "stdout",
          "text": [
            "             Open   High    Low  Close  rate_return\n",
            "Date                                               \n",
            "2016-01-31  False  False  False  False         True\n",
            "2016-02-29  False  False  False  False        False\n",
            "2016-03-31  False  False  False  False        False\n",
            "2016-04-30  False  False  False  False        False\n",
            "2016-05-31  False  False  False  False        False\n",
            "2016-06-30  False  False  False  False        False\n",
            "2016-07-31  False  False  False  False        False\n",
            "2016-08-31  False  False  False  False        False\n",
            "2016-09-30  False  False  False  False        False\n",
            "2016-10-31  False  False  False  False        False\n",
            "2016-11-30  False  False  False  False        False\n",
            "2016-12-31  False  False  False  False        False\n",
            "---------------------------------------------\n",
            "         Open   High    Low  Close rate_return\n",
            "count      12     12     12     12          12\n",
            "unique      1      1      1      1           2\n",
            "top     False  False  False  False       False\n",
            "freq       12     12     12     12          11\n"
          ]
        }
      ]
    },
    {
      "cell_type": "code",
      "metadata": {
        "colab": {
          "base_uri": "https://localhost:8080/"
        },
        "id": "UaBwHyr_fKfb",
        "outputId": "5659747e-7324-4797-f8b4-9485b7449898"
      },
      "source": [
        "print(missing[missing.rate_return == True])"
      ],
      "execution_count": 182,
      "outputs": [
        {
          "output_type": "stream",
          "name": "stdout",
          "text": [
            "             Open   High    Low  Close  rate_return\n",
            "Date                                               \n",
            "2016-01-31  False  False  False  False         True\n"
          ]
        }
      ]
    },
    {
      "cell_type": "code",
      "metadata": {
        "colab": {
          "base_uri": "https://localhost:8080/"
        },
        "id": "1BkVPEdBfNIS",
        "outputId": "92376a74-3682-4762-a7f0-74b32ba0924a"
      },
      "source": [
        "drop = aapl_bar.dropna()\n",
        "print(drop)\n",
        "print('\\n--------------------------------------------------\\n')\n",
        "fill = aapl_bar.fillna(0)\n",
        "print(fill)"
      ],
      "execution_count": 183,
      "outputs": [
        {
          "output_type": "stream",
          "name": "stdout",
          "text": [
            "              Open      High     Low   Close  rate_return\n",
            "Date                                                     \n",
            "2016-02-29   96.86   98.2300   96.65   96.69    -0.006678\n",
            "2016-03-31  109.72  109.9000  108.88  108.99     0.127211\n",
            "2016-04-30   93.99   94.7200   92.51   93.74    -0.139921\n",
            "2016-05-31   99.60  100.4000   98.82   99.86     0.065287\n",
            "2016-06-30   94.44   95.7700   94.30   95.60    -0.042660\n",
            "2016-07-31  104.19  104.5500  103.68  104.21     0.090063\n",
            "2016-08-31  105.66  106.5699  105.64  106.10     0.018136\n",
            "2016-09-30  112.46  113.3700  111.80  113.05     0.065504\n",
            "2016-10-31  113.65  114.2300  113.20  113.54     0.004334\n",
            "2016-11-30  111.56  112.2000  110.27  110.52    -0.026599\n",
            "2016-12-31  116.65  117.2000  115.43  115.82     0.047955\n",
            "\n",
            "--------------------------------------------------\n",
            "\n",
            "              Open      High     Low   Close  rate_return\n",
            "Date                                                     \n",
            "2016-01-31   94.79   97.3400   94.35   97.34     0.000000\n",
            "2016-02-29   96.86   98.2300   96.65   96.69    -0.006678\n",
            "2016-03-31  109.72  109.9000  108.88  108.99     0.127211\n",
            "2016-04-30   93.99   94.7200   92.51   93.74    -0.139921\n",
            "2016-05-31   99.60  100.4000   98.82   99.86     0.065287\n",
            "2016-06-30   94.44   95.7700   94.30   95.60    -0.042660\n",
            "2016-07-31  104.19  104.5500  103.68  104.21     0.090063\n",
            "2016-08-31  105.66  106.5699  105.64  106.10     0.018136\n",
            "2016-09-30  112.46  113.3700  111.80  113.05     0.065504\n",
            "2016-10-31  113.65  114.2300  113.20  113.54     0.004334\n",
            "2016-11-30  111.56  112.2000  110.27  110.52    -0.026599\n",
            "2016-12-31  116.65  117.2000  115.43  115.82     0.047955\n"
          ]
        }
      ]
    },
    {
      "cell_type": "markdown",
      "metadata": {
        "id": "hrWECZDKfXRE"
      },
      "source": [
        "###DataFrame Concat"
      ]
    },
    {
      "cell_type": "code",
      "metadata": {
        "colab": {
          "base_uri": "https://localhost:8080/"
        },
        "id": "I0_QWe9wfYno",
        "outputId": "39d7b365-6e7f-47a5-8d38-9842f2bd152a"
      },
      "source": [
        "s1 = pd.Series([143.5, 144.09, 142.73, 144.18, 143.77], name = 'AAPL')\n",
        "s2 = pd.Series([898.7, 911.71, 906.69, 918.59, 926.99], name = 'GOOG')\n",
        "data_frame = pd.concat([s1, s2], axis = 1)\n",
        "print(data_frame)"
      ],
      "execution_count": 184,
      "outputs": [
        {
          "output_type": "stream",
          "name": "stdout",
          "text": [
            "     AAPL    GOOG\n",
            "0  143.50  898.70\n",
            "1  144.09  911.71\n",
            "2  142.73  906.69\n",
            "3  144.18  918.59\n",
            "4  143.77  926.99\n"
          ]
        }
      ]
    },
    {
      "cell_type": "code",
      "metadata": {
        "colab": {
          "base_uri": "https://localhost:8080/"
        },
        "id": "VXFnZK0kfhJI",
        "outputId": "e7d83eb8-b136-4ac6-e54f-9ab3a14e4afd"
      },
      "source": [
        "log_price = np.log(aapl_bar.Close)\n",
        "log_price.name = 'log_price'\n",
        "print(log_price)\n",
        "print('\\n--------------------------------------------\\n')\n",
        "concat = pd.concat([aapl_bar, log_price], axis = 1)\n",
        "print(concat)"
      ],
      "execution_count": 185,
      "outputs": [
        {
          "output_type": "stream",
          "name": "stdout",
          "text": [
            "Date\n",
            "2016-01-31    4.578210\n",
            "2016-02-29    4.571510\n",
            "2016-03-31    4.691256\n",
            "2016-04-30    4.540525\n",
            "2016-05-31    4.603769\n",
            "2016-06-30    4.560173\n",
            "2016-07-31    4.646408\n",
            "2016-08-31    4.664382\n",
            "2016-09-30    4.727830\n",
            "2016-10-31    4.732155\n",
            "2016-11-30    4.705197\n",
            "2016-12-31    4.752037\n",
            "Freq: M, Name: log_price, dtype: float64\n",
            "\n",
            "--------------------------------------------\n",
            "\n",
            "              Open      High     Low   Close  rate_return  log_price\n",
            "Date                                                                \n",
            "2016-01-31   94.79   97.3400   94.35   97.34          NaN   4.578210\n",
            "2016-02-29   96.86   98.2300   96.65   96.69    -0.006678   4.571510\n",
            "2016-03-31  109.72  109.9000  108.88  108.99     0.127211   4.691256\n",
            "2016-04-30   93.99   94.7200   92.51   93.74    -0.139921   4.540525\n",
            "2016-05-31   99.60  100.4000   98.82   99.86     0.065287   4.603769\n",
            "2016-06-30   94.44   95.7700   94.30   95.60    -0.042660   4.560173\n",
            "2016-07-31  104.19  104.5500  103.68  104.21     0.090063   4.646408\n",
            "2016-08-31  105.66  106.5699  105.64  106.10     0.018136   4.664382\n",
            "2016-09-30  112.46  113.3700  111.80  113.05     0.065504   4.727830\n",
            "2016-10-31  113.65  114.2300  113.20  113.54     0.004334   4.732155\n",
            "2016-11-30  111.56  112.2000  110.27  110.52    -0.026599   4.705197\n",
            "2016-12-31  116.65  117.2000  115.43  115.82     0.047955   4.752037\n"
          ]
        }
      ]
    },
    {
      "cell_type": "code",
      "metadata": {
        "colab": {
          "base_uri": "https://localhost:8080/"
        },
        "id": "0GYvegmvfoe5",
        "outputId": "75a1e82e-6870-462c-cc3b-125f01aebc92"
      },
      "source": [
        "df_volume = aapl_table.loc['2016-10':'2017-04', ['Volume', 'Split Ratio']].resample('M').agg(lambda x: x[-1])\n",
        "print(df_volume)\n",
        "print('\\n-------------------------------------------\\n')\n",
        "df_2017 = aapl_table.loc['2016-10':'2017-04', ['Open', 'High', 'Low', 'Close']].resample('M').agg(lambda x: x[-1])\n",
        "print(df_2017)"
      ],
      "execution_count": 186,
      "outputs": [
        {
          "output_type": "stream",
          "name": "stdout",
          "text": [
            "                Volume  Split Ratio\n",
            "Date                               \n",
            "2016-10-31  26419398.0          1.0\n",
            "2016-11-30  36162258.0          1.0\n",
            "2016-12-31  30586265.0          1.0\n",
            "2017-01-31  49200993.0          1.0\n",
            "2017-02-28  23482860.0          1.0\n",
            "2017-03-31  19661651.0          1.0\n",
            "2017-04-30  20247187.0          1.0\n",
            "\n",
            "-------------------------------------------\n",
            "\n",
            "              Open     High     Low   Close\n",
            "Date                                       \n",
            "2016-10-31  113.65  114.230  113.20  113.54\n",
            "2016-11-30  111.56  112.200  110.27  110.52\n",
            "2016-12-31  116.65  117.200  115.43  115.82\n",
            "2017-01-31  121.15  121.390  120.62  121.35\n",
            "2017-02-28  137.08  137.435  136.70  136.99\n",
            "2017-03-31  143.72  144.270  143.01  143.66\n",
            "2017-04-30  144.09  144.300  143.27  143.65\n"
          ]
        }
      ]
    },
    {
      "cell_type": "code",
      "metadata": {
        "colab": {
          "base_uri": "https://localhost:8080/"
        },
        "id": "_Icl6y2qfvxS",
        "outputId": "e9307de4-22d9-4627-c9e2-fea12867a2b5"
      },
      "source": [
        "concat = pd.concat([aapl_bar, df_volume], axis = 1)\n",
        "print(concat)"
      ],
      "execution_count": 187,
      "outputs": [
        {
          "output_type": "stream",
          "name": "stdout",
          "text": [
            "              Open      High     Low  ...  rate_return      Volume  Split Ratio\n",
            "Date                                  ...                                      \n",
            "2016-01-31   94.79   97.3400   94.35  ...          NaN         NaN          NaN\n",
            "2016-02-29   96.86   98.2300   96.65  ...    -0.006678         NaN          NaN\n",
            "2016-03-31  109.72  109.9000  108.88  ...     0.127211         NaN          NaN\n",
            "2016-04-30   93.99   94.7200   92.51  ...    -0.139921         NaN          NaN\n",
            "2016-05-31   99.60  100.4000   98.82  ...     0.065287         NaN          NaN\n",
            "2016-06-30   94.44   95.7700   94.30  ...    -0.042660         NaN          NaN\n",
            "2016-07-31  104.19  104.5500  103.68  ...     0.090063         NaN          NaN\n",
            "2016-08-31  105.66  106.5699  105.64  ...     0.018136         NaN          NaN\n",
            "2016-09-30  112.46  113.3700  111.80  ...     0.065504         NaN          NaN\n",
            "2016-10-31  113.65  114.2300  113.20  ...     0.004334  26419398.0          1.0\n",
            "2016-11-30  111.56  112.2000  110.27  ...    -0.026599  36162258.0          1.0\n",
            "2016-12-31  116.65  117.2000  115.43  ...     0.047955  30586265.0          1.0\n",
            "2017-01-31     NaN       NaN     NaN  ...          NaN  49200993.0          1.0\n",
            "2017-02-28     NaN       NaN     NaN  ...          NaN  23482860.0          1.0\n",
            "2017-03-31     NaN       NaN     NaN  ...          NaN  19661651.0          1.0\n",
            "2017-04-30     NaN       NaN     NaN  ...          NaN  20247187.0          1.0\n",
            "\n",
            "[16 rows x 7 columns]\n"
          ]
        }
      ]
    },
    {
      "cell_type": "code",
      "metadata": {
        "colab": {
          "base_uri": "https://localhost:8080/"
        },
        "id": "YGbG3NO2f1co",
        "outputId": "415a159e-95f4-4bf4-b61a-5baa070c7e8c"
      },
      "source": [
        "concat = pd.concat([aapl_bar, df_volume], axis = 1, join = 'inner')\n",
        "print(concat)"
      ],
      "execution_count": 188,
      "outputs": [
        {
          "output_type": "stream",
          "name": "stdout",
          "text": [
            "              Open    High     Low  ...  rate_return      Volume  Split Ratio\n",
            "Date                                ...                                      \n",
            "2016-10-31  113.65  114.23  113.20  ...     0.004334  26419398.0          1.0\n",
            "2016-11-30  111.56  112.20  110.27  ...    -0.026599  36162258.0          1.0\n",
            "2016-12-31  116.65  117.20  115.43  ...     0.047955  30586265.0          1.0\n",
            "\n",
            "[3 rows x 7 columns]\n"
          ]
        }
      ]
    },
    {
      "cell_type": "code",
      "metadata": {
        "colab": {
          "base_uri": "https://localhost:8080/"
        },
        "id": "7ZcAdaQzf4HQ",
        "outputId": "f4bef843-497b-4d1b-894d-5993e1a76a77"
      },
      "source": [
        "append = aapl_bar.append(df_2017)\n",
        "print(append)"
      ],
      "execution_count": 189,
      "outputs": [
        {
          "output_type": "stream",
          "name": "stdout",
          "text": [
            "              Open      High     Low   Close  rate_return\n",
            "Date                                                     \n",
            "2016-01-31   94.79   97.3400   94.35   97.34          NaN\n",
            "2016-02-29   96.86   98.2300   96.65   96.69    -0.006678\n",
            "2016-03-31  109.72  109.9000  108.88  108.99     0.127211\n",
            "2016-04-30   93.99   94.7200   92.51   93.74    -0.139921\n",
            "2016-05-31   99.60  100.4000   98.82   99.86     0.065287\n",
            "2016-06-30   94.44   95.7700   94.30   95.60    -0.042660\n",
            "2016-07-31  104.19  104.5500  103.68  104.21     0.090063\n",
            "2016-08-31  105.66  106.5699  105.64  106.10     0.018136\n",
            "2016-09-30  112.46  113.3700  111.80  113.05     0.065504\n",
            "2016-10-31  113.65  114.2300  113.20  113.54     0.004334\n",
            "2016-11-30  111.56  112.2000  110.27  110.52    -0.026599\n",
            "2016-12-31  116.65  117.2000  115.43  115.82     0.047955\n",
            "2016-10-31  113.65  114.2300  113.20  113.54          NaN\n",
            "2016-11-30  111.56  112.2000  110.27  110.52          NaN\n",
            "2016-12-31  116.65  117.2000  115.43  115.82          NaN\n",
            "2017-01-31  121.15  121.3900  120.62  121.35          NaN\n",
            "2017-02-28  137.08  137.4350  136.70  136.99          NaN\n",
            "2017-03-31  143.72  144.2700  143.01  143.66          NaN\n",
            "2017-04-30  144.09  144.3000  143.27  143.65          NaN\n"
          ]
        }
      ]
    },
    {
      "cell_type": "code",
      "metadata": {
        "colab": {
          "base_uri": "https://localhost:8080/"
        },
        "id": "_m4y6lQlf8dB",
        "outputId": "8d0d5559-ce44-454e-b8b5-8faf39258ecd"
      },
      "source": [
        "concat = pd.concat([aapl_bar, df_2017], axis = 0)\n",
        "print(concat)"
      ],
      "execution_count": 190,
      "outputs": [
        {
          "output_type": "stream",
          "name": "stdout",
          "text": [
            "              Open      High     Low   Close  rate_return\n",
            "Date                                                     \n",
            "2016-01-31   94.79   97.3400   94.35   97.34          NaN\n",
            "2016-02-29   96.86   98.2300   96.65   96.69    -0.006678\n",
            "2016-03-31  109.72  109.9000  108.88  108.99     0.127211\n",
            "2016-04-30   93.99   94.7200   92.51   93.74    -0.139921\n",
            "2016-05-31   99.60  100.4000   98.82   99.86     0.065287\n",
            "2016-06-30   94.44   95.7700   94.30   95.60    -0.042660\n",
            "2016-07-31  104.19  104.5500  103.68  104.21     0.090063\n",
            "2016-08-31  105.66  106.5699  105.64  106.10     0.018136\n",
            "2016-09-30  112.46  113.3700  111.80  113.05     0.065504\n",
            "2016-10-31  113.65  114.2300  113.20  113.54     0.004334\n",
            "2016-11-30  111.56  112.2000  110.27  110.52    -0.026599\n",
            "2016-12-31  116.65  117.2000  115.43  115.82     0.047955\n",
            "2016-10-31  113.65  114.2300  113.20  113.54          NaN\n",
            "2016-11-30  111.56  112.2000  110.27  110.52          NaN\n",
            "2016-12-31  116.65  117.2000  115.43  115.82          NaN\n",
            "2017-01-31  121.15  121.3900  120.62  121.35          NaN\n",
            "2017-02-28  137.08  137.4350  136.70  136.99          NaN\n",
            "2017-03-31  143.72  144.2700  143.01  143.66          NaN\n",
            "2017-04-30  144.09  144.3000  143.27  143.65          NaN\n"
          ]
        }
      ]
    },
    {
      "cell_type": "code",
      "metadata": {
        "colab": {
          "base_uri": "https://localhost:8080/"
        },
        "id": "KC6QbaQCgExf",
        "outputId": "af720452-6c6b-46bd-c425-457cdb88bd8f"
      },
      "source": [
        "df_2017.columns = ['Change', 'High', 'Low', 'Close']\n",
        "concat = pd.concat([aapl_bar, df_2017], axis = 0)\n",
        "print(concat)"
      ],
      "execution_count": 191,
      "outputs": [
        {
          "output_type": "stream",
          "name": "stdout",
          "text": [
            "              Open      High     Low   Close  rate_return  Change\n",
            "Date                                                             \n",
            "2016-01-31   94.79   97.3400   94.35   97.34          NaN     NaN\n",
            "2016-02-29   96.86   98.2300   96.65   96.69    -0.006678     NaN\n",
            "2016-03-31  109.72  109.9000  108.88  108.99     0.127211     NaN\n",
            "2016-04-30   93.99   94.7200   92.51   93.74    -0.139921     NaN\n",
            "2016-05-31   99.60  100.4000   98.82   99.86     0.065287     NaN\n",
            "2016-06-30   94.44   95.7700   94.30   95.60    -0.042660     NaN\n",
            "2016-07-31  104.19  104.5500  103.68  104.21     0.090063     NaN\n",
            "2016-08-31  105.66  106.5699  105.64  106.10     0.018136     NaN\n",
            "2016-09-30  112.46  113.3700  111.80  113.05     0.065504     NaN\n",
            "2016-10-31  113.65  114.2300  113.20  113.54     0.004334     NaN\n",
            "2016-11-30  111.56  112.2000  110.27  110.52    -0.026599     NaN\n",
            "2016-12-31  116.65  117.2000  115.43  115.82     0.047955     NaN\n",
            "2016-10-31     NaN  114.2300  113.20  113.54          NaN  113.65\n",
            "2016-11-30     NaN  112.2000  110.27  110.52          NaN  111.56\n",
            "2016-12-31     NaN  117.2000  115.43  115.82          NaN  116.65\n",
            "2017-01-31     NaN  121.3900  120.62  121.35          NaN  121.15\n",
            "2017-02-28     NaN  137.4350  136.70  136.99          NaN  137.08\n",
            "2017-03-31     NaN  144.2700  143.01  143.66          NaN  143.72\n",
            "2017-04-30     NaN  144.3000  143.27  143.65          NaN  144.09\n"
          ]
        }
      ]
    }
  ]
}